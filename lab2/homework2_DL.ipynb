{
  "nbformat": 4,
  "nbformat_minor": 0,
  "metadata": {
    "colab": {
      "name": "DL_lab2 (1).ipynb",
      "provenance": [],
      "collapsed_sections": [
        "GMYXukrtVQ84",
        "OaWu5y0EVlg4"
      ]
    },
    "kernelspec": {
      "name": "python3",
      "display_name": "Python 3"
    },
    "language_info": {
      "name": "python"
    },
    "accelerator": "GPU",
    "widgets": {
      "application/vnd.jupyter.widget-state+json": {
        "d40c32ad66cd4ea6a03bad8cc915e3c9": {
          "model_module": "@jupyter-widgets/controls",
          "model_name": "HBoxModel",
          "model_module_version": "1.5.0",
          "state": {
            "_dom_classes": [],
            "_model_module": "@jupyter-widgets/controls",
            "_model_module_version": "1.5.0",
            "_model_name": "HBoxModel",
            "_view_count": null,
            "_view_module": "@jupyter-widgets/controls",
            "_view_module_version": "1.5.0",
            "_view_name": "HBoxView",
            "box_style": "",
            "children": [
              "IPY_MODEL_4d4c019934d1447c826f899ac08060cd",
              "IPY_MODEL_d88b573881f34b31ac98a03900a544a8",
              "IPY_MODEL_b3dde196c877415e981197819aed1254"
            ],
            "layout": "IPY_MODEL_41a63afe34034da188b7feb58f1e8318"
          }
        },
        "4d4c019934d1447c826f899ac08060cd": {
          "model_module": "@jupyter-widgets/controls",
          "model_name": "HTMLModel",
          "model_module_version": "1.5.0",
          "state": {
            "_dom_classes": [],
            "_model_module": "@jupyter-widgets/controls",
            "_model_module_version": "1.5.0",
            "_model_name": "HTMLModel",
            "_view_count": null,
            "_view_module": "@jupyter-widgets/controls",
            "_view_module_version": "1.5.0",
            "_view_name": "HTMLView",
            "description": "",
            "description_tooltip": null,
            "layout": "IPY_MODEL_d57e38d567f348ec8d317e2568a6c400",
            "placeholder": "​",
            "style": "IPY_MODEL_05bb6adb2c9345a989345b807896a1fe",
            "value": "100%"
          }
        },
        "d88b573881f34b31ac98a03900a544a8": {
          "model_module": "@jupyter-widgets/controls",
          "model_name": "FloatProgressModel",
          "model_module_version": "1.5.0",
          "state": {
            "_dom_classes": [],
            "_model_module": "@jupyter-widgets/controls",
            "_model_module_version": "1.5.0",
            "_model_name": "FloatProgressModel",
            "_view_count": null,
            "_view_module": "@jupyter-widgets/controls",
            "_view_module_version": "1.5.0",
            "_view_name": "ProgressView",
            "bar_style": "success",
            "description": "",
            "description_tooltip": null,
            "layout": "IPY_MODEL_5fd54d49c7804b548a990d24e65c6b8b",
            "max": 10000,
            "min": 0,
            "orientation": "horizontal",
            "style": "IPY_MODEL_b4145254ff714371bb99e7464d8c49f9",
            "value": 10000
          }
        },
        "b3dde196c877415e981197819aed1254": {
          "model_module": "@jupyter-widgets/controls",
          "model_name": "HTMLModel",
          "model_module_version": "1.5.0",
          "state": {
            "_dom_classes": [],
            "_model_module": "@jupyter-widgets/controls",
            "_model_module_version": "1.5.0",
            "_model_name": "HTMLModel",
            "_view_count": null,
            "_view_module": "@jupyter-widgets/controls",
            "_view_module_version": "1.5.0",
            "_view_name": "HTMLView",
            "description": "",
            "description_tooltip": null,
            "layout": "IPY_MODEL_d29efb5567904fcbbd9056c32b2cd17e",
            "placeholder": "​",
            "style": "IPY_MODEL_7efadb7573bd4f449731d52317a9a73b",
            "value": " 10000/10000 [07:09&lt;00:00, 21.48it/s]"
          }
        },
        "41a63afe34034da188b7feb58f1e8318": {
          "model_module": "@jupyter-widgets/base",
          "model_name": "LayoutModel",
          "model_module_version": "1.2.0",
          "state": {
            "_model_module": "@jupyter-widgets/base",
            "_model_module_version": "1.2.0",
            "_model_name": "LayoutModel",
            "_view_count": null,
            "_view_module": "@jupyter-widgets/base",
            "_view_module_version": "1.2.0",
            "_view_name": "LayoutView",
            "align_content": null,
            "align_items": null,
            "align_self": null,
            "border": null,
            "bottom": null,
            "display": null,
            "flex": null,
            "flex_flow": null,
            "grid_area": null,
            "grid_auto_columns": null,
            "grid_auto_flow": null,
            "grid_auto_rows": null,
            "grid_column": null,
            "grid_gap": null,
            "grid_row": null,
            "grid_template_areas": null,
            "grid_template_columns": null,
            "grid_template_rows": null,
            "height": null,
            "justify_content": null,
            "justify_items": null,
            "left": null,
            "margin": null,
            "max_height": null,
            "max_width": null,
            "min_height": null,
            "min_width": null,
            "object_fit": null,
            "object_position": null,
            "order": null,
            "overflow": null,
            "overflow_x": null,
            "overflow_y": null,
            "padding": null,
            "right": null,
            "top": null,
            "visibility": null,
            "width": null
          }
        },
        "d57e38d567f348ec8d317e2568a6c400": {
          "model_module": "@jupyter-widgets/base",
          "model_name": "LayoutModel",
          "model_module_version": "1.2.0",
          "state": {
            "_model_module": "@jupyter-widgets/base",
            "_model_module_version": "1.2.0",
            "_model_name": "LayoutModel",
            "_view_count": null,
            "_view_module": "@jupyter-widgets/base",
            "_view_module_version": "1.2.0",
            "_view_name": "LayoutView",
            "align_content": null,
            "align_items": null,
            "align_self": null,
            "border": null,
            "bottom": null,
            "display": null,
            "flex": null,
            "flex_flow": null,
            "grid_area": null,
            "grid_auto_columns": null,
            "grid_auto_flow": null,
            "grid_auto_rows": null,
            "grid_column": null,
            "grid_gap": null,
            "grid_row": null,
            "grid_template_areas": null,
            "grid_template_columns": null,
            "grid_template_rows": null,
            "height": null,
            "justify_content": null,
            "justify_items": null,
            "left": null,
            "margin": null,
            "max_height": null,
            "max_width": null,
            "min_height": null,
            "min_width": null,
            "object_fit": null,
            "object_position": null,
            "order": null,
            "overflow": null,
            "overflow_x": null,
            "overflow_y": null,
            "padding": null,
            "right": null,
            "top": null,
            "visibility": null,
            "width": null
          }
        },
        "05bb6adb2c9345a989345b807896a1fe": {
          "model_module": "@jupyter-widgets/controls",
          "model_name": "DescriptionStyleModel",
          "model_module_version": "1.5.0",
          "state": {
            "_model_module": "@jupyter-widgets/controls",
            "_model_module_version": "1.5.0",
            "_model_name": "DescriptionStyleModel",
            "_view_count": null,
            "_view_module": "@jupyter-widgets/base",
            "_view_module_version": "1.2.0",
            "_view_name": "StyleView",
            "description_width": ""
          }
        },
        "5fd54d49c7804b548a990d24e65c6b8b": {
          "model_module": "@jupyter-widgets/base",
          "model_name": "LayoutModel",
          "model_module_version": "1.2.0",
          "state": {
            "_model_module": "@jupyter-widgets/base",
            "_model_module_version": "1.2.0",
            "_model_name": "LayoutModel",
            "_view_count": null,
            "_view_module": "@jupyter-widgets/base",
            "_view_module_version": "1.2.0",
            "_view_name": "LayoutView",
            "align_content": null,
            "align_items": null,
            "align_self": null,
            "border": null,
            "bottom": null,
            "display": null,
            "flex": null,
            "flex_flow": null,
            "grid_area": null,
            "grid_auto_columns": null,
            "grid_auto_flow": null,
            "grid_auto_rows": null,
            "grid_column": null,
            "grid_gap": null,
            "grid_row": null,
            "grid_template_areas": null,
            "grid_template_columns": null,
            "grid_template_rows": null,
            "height": null,
            "justify_content": null,
            "justify_items": null,
            "left": null,
            "margin": null,
            "max_height": null,
            "max_width": null,
            "min_height": null,
            "min_width": null,
            "object_fit": null,
            "object_position": null,
            "order": null,
            "overflow": null,
            "overflow_x": null,
            "overflow_y": null,
            "padding": null,
            "right": null,
            "top": null,
            "visibility": null,
            "width": null
          }
        },
        "b4145254ff714371bb99e7464d8c49f9": {
          "model_module": "@jupyter-widgets/controls",
          "model_name": "ProgressStyleModel",
          "model_module_version": "1.5.0",
          "state": {
            "_model_module": "@jupyter-widgets/controls",
            "_model_module_version": "1.5.0",
            "_model_name": "ProgressStyleModel",
            "_view_count": null,
            "_view_module": "@jupyter-widgets/base",
            "_view_module_version": "1.2.0",
            "_view_name": "StyleView",
            "bar_color": null,
            "description_width": ""
          }
        },
        "d29efb5567904fcbbd9056c32b2cd17e": {
          "model_module": "@jupyter-widgets/base",
          "model_name": "LayoutModel",
          "model_module_version": "1.2.0",
          "state": {
            "_model_module": "@jupyter-widgets/base",
            "_model_module_version": "1.2.0",
            "_model_name": "LayoutModel",
            "_view_count": null,
            "_view_module": "@jupyter-widgets/base",
            "_view_module_version": "1.2.0",
            "_view_name": "LayoutView",
            "align_content": null,
            "align_items": null,
            "align_self": null,
            "border": null,
            "bottom": null,
            "display": null,
            "flex": null,
            "flex_flow": null,
            "grid_area": null,
            "grid_auto_columns": null,
            "grid_auto_flow": null,
            "grid_auto_rows": null,
            "grid_column": null,
            "grid_gap": null,
            "grid_row": null,
            "grid_template_areas": null,
            "grid_template_columns": null,
            "grid_template_rows": null,
            "height": null,
            "justify_content": null,
            "justify_items": null,
            "left": null,
            "margin": null,
            "max_height": null,
            "max_width": null,
            "min_height": null,
            "min_width": null,
            "object_fit": null,
            "object_position": null,
            "order": null,
            "overflow": null,
            "overflow_x": null,
            "overflow_y": null,
            "padding": null,
            "right": null,
            "top": null,
            "visibility": null,
            "width": null
          }
        },
        "7efadb7573bd4f449731d52317a9a73b": {
          "model_module": "@jupyter-widgets/controls",
          "model_name": "DescriptionStyleModel",
          "model_module_version": "1.5.0",
          "state": {
            "_model_module": "@jupyter-widgets/controls",
            "_model_module_version": "1.5.0",
            "_model_name": "DescriptionStyleModel",
            "_view_count": null,
            "_view_module": "@jupyter-widgets/base",
            "_view_module_version": "1.2.0",
            "_view_name": "StyleView",
            "description_width": ""
          }
        },
        "3c4f81a9c3da4284990c3b54d2855003": {
          "model_module": "@jupyter-widgets/controls",
          "model_name": "HBoxModel",
          "model_module_version": "1.5.0",
          "state": {
            "_dom_classes": [],
            "_model_module": "@jupyter-widgets/controls",
            "_model_module_version": "1.5.0",
            "_model_name": "HBoxModel",
            "_view_count": null,
            "_view_module": "@jupyter-widgets/controls",
            "_view_module_version": "1.5.0",
            "_view_name": "HBoxView",
            "box_style": "",
            "children": [
              "IPY_MODEL_25474ebea9ff4700b7a4c444956c26b7",
              "IPY_MODEL_ea6f6a7ac5474b678b5dd1786ca57983",
              "IPY_MODEL_68028cf804ad41549049875ac21c5cc2"
            ],
            "layout": "IPY_MODEL_d6e2b5edf4d945708903c63f64a3a86a"
          }
        },
        "25474ebea9ff4700b7a4c444956c26b7": {
          "model_module": "@jupyter-widgets/controls",
          "model_name": "HTMLModel",
          "model_module_version": "1.5.0",
          "state": {
            "_dom_classes": [],
            "_model_module": "@jupyter-widgets/controls",
            "_model_module_version": "1.5.0",
            "_model_name": "HTMLModel",
            "_view_count": null,
            "_view_module": "@jupyter-widgets/controls",
            "_view_module_version": "1.5.0",
            "_view_name": "HTMLView",
            "description": "",
            "description_tooltip": null,
            "layout": "IPY_MODEL_5d23a183f2ed4b4eb7c150157adda9c7",
            "placeholder": "​",
            "style": "IPY_MODEL_92ef8d5106df47df8176b86c63be89c2",
            "value": "100%"
          }
        },
        "ea6f6a7ac5474b678b5dd1786ca57983": {
          "model_module": "@jupyter-widgets/controls",
          "model_name": "FloatProgressModel",
          "model_module_version": "1.5.0",
          "state": {
            "_dom_classes": [],
            "_model_module": "@jupyter-widgets/controls",
            "_model_module_version": "1.5.0",
            "_model_name": "FloatProgressModel",
            "_view_count": null,
            "_view_module": "@jupyter-widgets/controls",
            "_view_module_version": "1.5.0",
            "_view_name": "ProgressView",
            "bar_style": "success",
            "description": "",
            "description_tooltip": null,
            "layout": "IPY_MODEL_0ed8322fcb2e4187ae02b0e548e17722",
            "max": 2000,
            "min": 0,
            "orientation": "horizontal",
            "style": "IPY_MODEL_0ee2f9807b4347cea7722f27eae4da09",
            "value": 2000
          }
        },
        "68028cf804ad41549049875ac21c5cc2": {
          "model_module": "@jupyter-widgets/controls",
          "model_name": "HTMLModel",
          "model_module_version": "1.5.0",
          "state": {
            "_dom_classes": [],
            "_model_module": "@jupyter-widgets/controls",
            "_model_module_version": "1.5.0",
            "_model_name": "HTMLModel",
            "_view_count": null,
            "_view_module": "@jupyter-widgets/controls",
            "_view_module_version": "1.5.0",
            "_view_name": "HTMLView",
            "description": "",
            "description_tooltip": null,
            "layout": "IPY_MODEL_5576cac587584d6ab0fad5abe7fea1d1",
            "placeholder": "​",
            "style": "IPY_MODEL_5727125b886e4c41b5d49635c75efa8f",
            "value": " 2000/2000 [01:21&lt;00:00, 24.09it/s]"
          }
        },
        "d6e2b5edf4d945708903c63f64a3a86a": {
          "model_module": "@jupyter-widgets/base",
          "model_name": "LayoutModel",
          "model_module_version": "1.2.0",
          "state": {
            "_model_module": "@jupyter-widgets/base",
            "_model_module_version": "1.2.0",
            "_model_name": "LayoutModel",
            "_view_count": null,
            "_view_module": "@jupyter-widgets/base",
            "_view_module_version": "1.2.0",
            "_view_name": "LayoutView",
            "align_content": null,
            "align_items": null,
            "align_self": null,
            "border": null,
            "bottom": null,
            "display": null,
            "flex": null,
            "flex_flow": null,
            "grid_area": null,
            "grid_auto_columns": null,
            "grid_auto_flow": null,
            "grid_auto_rows": null,
            "grid_column": null,
            "grid_gap": null,
            "grid_row": null,
            "grid_template_areas": null,
            "grid_template_columns": null,
            "grid_template_rows": null,
            "height": null,
            "justify_content": null,
            "justify_items": null,
            "left": null,
            "margin": null,
            "max_height": null,
            "max_width": null,
            "min_height": null,
            "min_width": null,
            "object_fit": null,
            "object_position": null,
            "order": null,
            "overflow": null,
            "overflow_x": null,
            "overflow_y": null,
            "padding": null,
            "right": null,
            "top": null,
            "visibility": null,
            "width": null
          }
        },
        "5d23a183f2ed4b4eb7c150157adda9c7": {
          "model_module": "@jupyter-widgets/base",
          "model_name": "LayoutModel",
          "model_module_version": "1.2.0",
          "state": {
            "_model_module": "@jupyter-widgets/base",
            "_model_module_version": "1.2.0",
            "_model_name": "LayoutModel",
            "_view_count": null,
            "_view_module": "@jupyter-widgets/base",
            "_view_module_version": "1.2.0",
            "_view_name": "LayoutView",
            "align_content": null,
            "align_items": null,
            "align_self": null,
            "border": null,
            "bottom": null,
            "display": null,
            "flex": null,
            "flex_flow": null,
            "grid_area": null,
            "grid_auto_columns": null,
            "grid_auto_flow": null,
            "grid_auto_rows": null,
            "grid_column": null,
            "grid_gap": null,
            "grid_row": null,
            "grid_template_areas": null,
            "grid_template_columns": null,
            "grid_template_rows": null,
            "height": null,
            "justify_content": null,
            "justify_items": null,
            "left": null,
            "margin": null,
            "max_height": null,
            "max_width": null,
            "min_height": null,
            "min_width": null,
            "object_fit": null,
            "object_position": null,
            "order": null,
            "overflow": null,
            "overflow_x": null,
            "overflow_y": null,
            "padding": null,
            "right": null,
            "top": null,
            "visibility": null,
            "width": null
          }
        },
        "92ef8d5106df47df8176b86c63be89c2": {
          "model_module": "@jupyter-widgets/controls",
          "model_name": "DescriptionStyleModel",
          "model_module_version": "1.5.0",
          "state": {
            "_model_module": "@jupyter-widgets/controls",
            "_model_module_version": "1.5.0",
            "_model_name": "DescriptionStyleModel",
            "_view_count": null,
            "_view_module": "@jupyter-widgets/base",
            "_view_module_version": "1.2.0",
            "_view_name": "StyleView",
            "description_width": ""
          }
        },
        "0ed8322fcb2e4187ae02b0e548e17722": {
          "model_module": "@jupyter-widgets/base",
          "model_name": "LayoutModel",
          "model_module_version": "1.2.0",
          "state": {
            "_model_module": "@jupyter-widgets/base",
            "_model_module_version": "1.2.0",
            "_model_name": "LayoutModel",
            "_view_count": null,
            "_view_module": "@jupyter-widgets/base",
            "_view_module_version": "1.2.0",
            "_view_name": "LayoutView",
            "align_content": null,
            "align_items": null,
            "align_self": null,
            "border": null,
            "bottom": null,
            "display": null,
            "flex": null,
            "flex_flow": null,
            "grid_area": null,
            "grid_auto_columns": null,
            "grid_auto_flow": null,
            "grid_auto_rows": null,
            "grid_column": null,
            "grid_gap": null,
            "grid_row": null,
            "grid_template_areas": null,
            "grid_template_columns": null,
            "grid_template_rows": null,
            "height": null,
            "justify_content": null,
            "justify_items": null,
            "left": null,
            "margin": null,
            "max_height": null,
            "max_width": null,
            "min_height": null,
            "min_width": null,
            "object_fit": null,
            "object_position": null,
            "order": null,
            "overflow": null,
            "overflow_x": null,
            "overflow_y": null,
            "padding": null,
            "right": null,
            "top": null,
            "visibility": null,
            "width": null
          }
        },
        "0ee2f9807b4347cea7722f27eae4da09": {
          "model_module": "@jupyter-widgets/controls",
          "model_name": "ProgressStyleModel",
          "model_module_version": "1.5.0",
          "state": {
            "_model_module": "@jupyter-widgets/controls",
            "_model_module_version": "1.5.0",
            "_model_name": "ProgressStyleModel",
            "_view_count": null,
            "_view_module": "@jupyter-widgets/base",
            "_view_module_version": "1.2.0",
            "_view_name": "StyleView",
            "bar_color": null,
            "description_width": ""
          }
        },
        "5576cac587584d6ab0fad5abe7fea1d1": {
          "model_module": "@jupyter-widgets/base",
          "model_name": "LayoutModel",
          "model_module_version": "1.2.0",
          "state": {
            "_model_module": "@jupyter-widgets/base",
            "_model_module_version": "1.2.0",
            "_model_name": "LayoutModel",
            "_view_count": null,
            "_view_module": "@jupyter-widgets/base",
            "_view_module_version": "1.2.0",
            "_view_name": "LayoutView",
            "align_content": null,
            "align_items": null,
            "align_self": null,
            "border": null,
            "bottom": null,
            "display": null,
            "flex": null,
            "flex_flow": null,
            "grid_area": null,
            "grid_auto_columns": null,
            "grid_auto_flow": null,
            "grid_auto_rows": null,
            "grid_column": null,
            "grid_gap": null,
            "grid_row": null,
            "grid_template_areas": null,
            "grid_template_columns": null,
            "grid_template_rows": null,
            "height": null,
            "justify_content": null,
            "justify_items": null,
            "left": null,
            "margin": null,
            "max_height": null,
            "max_width": null,
            "min_height": null,
            "min_width": null,
            "object_fit": null,
            "object_position": null,
            "order": null,
            "overflow": null,
            "overflow_x": null,
            "overflow_y": null,
            "padding": null,
            "right": null,
            "top": null,
            "visibility": null,
            "width": null
          }
        },
        "5727125b886e4c41b5d49635c75efa8f": {
          "model_module": "@jupyter-widgets/controls",
          "model_name": "DescriptionStyleModel",
          "model_module_version": "1.5.0",
          "state": {
            "_model_module": "@jupyter-widgets/controls",
            "_model_module_version": "1.5.0",
            "_model_name": "DescriptionStyleModel",
            "_view_count": null,
            "_view_module": "@jupyter-widgets/base",
            "_view_module_version": "1.2.0",
            "_view_name": "StyleView",
            "description_width": ""
          }
        },
        "42071eea17e34f7eac6d2243911a1d52": {
          "model_module": "@jupyter-widgets/controls",
          "model_name": "HBoxModel",
          "model_module_version": "1.5.0",
          "state": {
            "_dom_classes": [],
            "_model_module": "@jupyter-widgets/controls",
            "_model_module_version": "1.5.0",
            "_model_name": "HBoxModel",
            "_view_count": null,
            "_view_module": "@jupyter-widgets/controls",
            "_view_module_version": "1.5.0",
            "_view_name": "HBoxView",
            "box_style": "",
            "children": [
              "IPY_MODEL_936723e11e02470d8e9556c6a3c5beb3",
              "IPY_MODEL_2c715811d9784754b01d87719ca10f1d",
              "IPY_MODEL_2a2d3b5d5095414198b19fc1bf320cac"
            ],
            "layout": "IPY_MODEL_4c08ab5f0f24422485031f456a92b8a0"
          }
        },
        "936723e11e02470d8e9556c6a3c5beb3": {
          "model_module": "@jupyter-widgets/controls",
          "model_name": "HTMLModel",
          "model_module_version": "1.5.0",
          "state": {
            "_dom_classes": [],
            "_model_module": "@jupyter-widgets/controls",
            "_model_module_version": "1.5.0",
            "_model_name": "HTMLModel",
            "_view_count": null,
            "_view_module": "@jupyter-widgets/controls",
            "_view_module_version": "1.5.0",
            "_view_name": "HTMLView",
            "description": "",
            "description_tooltip": null,
            "layout": "IPY_MODEL_78068b11df2a44cca629acdf87077b44",
            "placeholder": "​",
            "style": "IPY_MODEL_0ef721269db749a1855bb6ae3177dee8",
            "value": "100%"
          }
        },
        "2c715811d9784754b01d87719ca10f1d": {
          "model_module": "@jupyter-widgets/controls",
          "model_name": "FloatProgressModel",
          "model_module_version": "1.5.0",
          "state": {
            "_dom_classes": [],
            "_model_module": "@jupyter-widgets/controls",
            "_model_module_version": "1.5.0",
            "_model_name": "FloatProgressModel",
            "_view_count": null,
            "_view_module": "@jupyter-widgets/controls",
            "_view_module_version": "1.5.0",
            "_view_name": "ProgressView",
            "bar_style": "success",
            "description": "",
            "description_tooltip": null,
            "layout": "IPY_MODEL_e6bf5ff0ab464d9badcfa53627e150cd",
            "max": 10000,
            "min": 0,
            "orientation": "horizontal",
            "style": "IPY_MODEL_06201b46902a4e45b537a32ac41b8d73",
            "value": 10000
          }
        },
        "2a2d3b5d5095414198b19fc1bf320cac": {
          "model_module": "@jupyter-widgets/controls",
          "model_name": "HTMLModel",
          "model_module_version": "1.5.0",
          "state": {
            "_dom_classes": [],
            "_model_module": "@jupyter-widgets/controls",
            "_model_module_version": "1.5.0",
            "_model_name": "HTMLModel",
            "_view_count": null,
            "_view_module": "@jupyter-widgets/controls",
            "_view_module_version": "1.5.0",
            "_view_name": "HTMLView",
            "description": "",
            "description_tooltip": null,
            "layout": "IPY_MODEL_5b854533b2634cf5a6e95b6dc6e043a8",
            "placeholder": "​",
            "style": "IPY_MODEL_9faa6e5d9f024731b53f66b0625a6ed2",
            "value": " 10000/10000 [06:27&lt;00:00, 24.26it/s]"
          }
        },
        "4c08ab5f0f24422485031f456a92b8a0": {
          "model_module": "@jupyter-widgets/base",
          "model_name": "LayoutModel",
          "model_module_version": "1.2.0",
          "state": {
            "_model_module": "@jupyter-widgets/base",
            "_model_module_version": "1.2.0",
            "_model_name": "LayoutModel",
            "_view_count": null,
            "_view_module": "@jupyter-widgets/base",
            "_view_module_version": "1.2.0",
            "_view_name": "LayoutView",
            "align_content": null,
            "align_items": null,
            "align_self": null,
            "border": null,
            "bottom": null,
            "display": null,
            "flex": null,
            "flex_flow": null,
            "grid_area": null,
            "grid_auto_columns": null,
            "grid_auto_flow": null,
            "grid_auto_rows": null,
            "grid_column": null,
            "grid_gap": null,
            "grid_row": null,
            "grid_template_areas": null,
            "grid_template_columns": null,
            "grid_template_rows": null,
            "height": null,
            "justify_content": null,
            "justify_items": null,
            "left": null,
            "margin": null,
            "max_height": null,
            "max_width": null,
            "min_height": null,
            "min_width": null,
            "object_fit": null,
            "object_position": null,
            "order": null,
            "overflow": null,
            "overflow_x": null,
            "overflow_y": null,
            "padding": null,
            "right": null,
            "top": null,
            "visibility": null,
            "width": null
          }
        },
        "78068b11df2a44cca629acdf87077b44": {
          "model_module": "@jupyter-widgets/base",
          "model_name": "LayoutModel",
          "model_module_version": "1.2.0",
          "state": {
            "_model_module": "@jupyter-widgets/base",
            "_model_module_version": "1.2.0",
            "_model_name": "LayoutModel",
            "_view_count": null,
            "_view_module": "@jupyter-widgets/base",
            "_view_module_version": "1.2.0",
            "_view_name": "LayoutView",
            "align_content": null,
            "align_items": null,
            "align_self": null,
            "border": null,
            "bottom": null,
            "display": null,
            "flex": null,
            "flex_flow": null,
            "grid_area": null,
            "grid_auto_columns": null,
            "grid_auto_flow": null,
            "grid_auto_rows": null,
            "grid_column": null,
            "grid_gap": null,
            "grid_row": null,
            "grid_template_areas": null,
            "grid_template_columns": null,
            "grid_template_rows": null,
            "height": null,
            "justify_content": null,
            "justify_items": null,
            "left": null,
            "margin": null,
            "max_height": null,
            "max_width": null,
            "min_height": null,
            "min_width": null,
            "object_fit": null,
            "object_position": null,
            "order": null,
            "overflow": null,
            "overflow_x": null,
            "overflow_y": null,
            "padding": null,
            "right": null,
            "top": null,
            "visibility": null,
            "width": null
          }
        },
        "0ef721269db749a1855bb6ae3177dee8": {
          "model_module": "@jupyter-widgets/controls",
          "model_name": "DescriptionStyleModel",
          "model_module_version": "1.5.0",
          "state": {
            "_model_module": "@jupyter-widgets/controls",
            "_model_module_version": "1.5.0",
            "_model_name": "DescriptionStyleModel",
            "_view_count": null,
            "_view_module": "@jupyter-widgets/base",
            "_view_module_version": "1.2.0",
            "_view_name": "StyleView",
            "description_width": ""
          }
        },
        "e6bf5ff0ab464d9badcfa53627e150cd": {
          "model_module": "@jupyter-widgets/base",
          "model_name": "LayoutModel",
          "model_module_version": "1.2.0",
          "state": {
            "_model_module": "@jupyter-widgets/base",
            "_model_module_version": "1.2.0",
            "_model_name": "LayoutModel",
            "_view_count": null,
            "_view_module": "@jupyter-widgets/base",
            "_view_module_version": "1.2.0",
            "_view_name": "LayoutView",
            "align_content": null,
            "align_items": null,
            "align_self": null,
            "border": null,
            "bottom": null,
            "display": null,
            "flex": null,
            "flex_flow": null,
            "grid_area": null,
            "grid_auto_columns": null,
            "grid_auto_flow": null,
            "grid_auto_rows": null,
            "grid_column": null,
            "grid_gap": null,
            "grid_row": null,
            "grid_template_areas": null,
            "grid_template_columns": null,
            "grid_template_rows": null,
            "height": null,
            "justify_content": null,
            "justify_items": null,
            "left": null,
            "margin": null,
            "max_height": null,
            "max_width": null,
            "min_height": null,
            "min_width": null,
            "object_fit": null,
            "object_position": null,
            "order": null,
            "overflow": null,
            "overflow_x": null,
            "overflow_y": null,
            "padding": null,
            "right": null,
            "top": null,
            "visibility": null,
            "width": null
          }
        },
        "06201b46902a4e45b537a32ac41b8d73": {
          "model_module": "@jupyter-widgets/controls",
          "model_name": "ProgressStyleModel",
          "model_module_version": "1.5.0",
          "state": {
            "_model_module": "@jupyter-widgets/controls",
            "_model_module_version": "1.5.0",
            "_model_name": "ProgressStyleModel",
            "_view_count": null,
            "_view_module": "@jupyter-widgets/base",
            "_view_module_version": "1.2.0",
            "_view_name": "StyleView",
            "bar_color": null,
            "description_width": ""
          }
        },
        "5b854533b2634cf5a6e95b6dc6e043a8": {
          "model_module": "@jupyter-widgets/base",
          "model_name": "LayoutModel",
          "model_module_version": "1.2.0",
          "state": {
            "_model_module": "@jupyter-widgets/base",
            "_model_module_version": "1.2.0",
            "_model_name": "LayoutModel",
            "_view_count": null,
            "_view_module": "@jupyter-widgets/base",
            "_view_module_version": "1.2.0",
            "_view_name": "LayoutView",
            "align_content": null,
            "align_items": null,
            "align_self": null,
            "border": null,
            "bottom": null,
            "display": null,
            "flex": null,
            "flex_flow": null,
            "grid_area": null,
            "grid_auto_columns": null,
            "grid_auto_flow": null,
            "grid_auto_rows": null,
            "grid_column": null,
            "grid_gap": null,
            "grid_row": null,
            "grid_template_areas": null,
            "grid_template_columns": null,
            "grid_template_rows": null,
            "height": null,
            "justify_content": null,
            "justify_items": null,
            "left": null,
            "margin": null,
            "max_height": null,
            "max_width": null,
            "min_height": null,
            "min_width": null,
            "object_fit": null,
            "object_position": null,
            "order": null,
            "overflow": null,
            "overflow_x": null,
            "overflow_y": null,
            "padding": null,
            "right": null,
            "top": null,
            "visibility": null,
            "width": null
          }
        },
        "9faa6e5d9f024731b53f66b0625a6ed2": {
          "model_module": "@jupyter-widgets/controls",
          "model_name": "DescriptionStyleModel",
          "model_module_version": "1.5.0",
          "state": {
            "_model_module": "@jupyter-widgets/controls",
            "_model_module_version": "1.5.0",
            "_model_name": "DescriptionStyleModel",
            "_view_count": null,
            "_view_module": "@jupyter-widgets/base",
            "_view_module_version": "1.2.0",
            "_view_name": "StyleView",
            "description_width": ""
          }
        },
        "51a9f39a399649ff9a1bc0ca41d78d1c": {
          "model_module": "@jupyter-widgets/controls",
          "model_name": "HBoxModel",
          "model_module_version": "1.5.0",
          "state": {
            "_dom_classes": [],
            "_model_module": "@jupyter-widgets/controls",
            "_model_module_version": "1.5.0",
            "_model_name": "HBoxModel",
            "_view_count": null,
            "_view_module": "@jupyter-widgets/controls",
            "_view_module_version": "1.5.0",
            "_view_name": "HBoxView",
            "box_style": "",
            "children": [
              "IPY_MODEL_3fc3633efff241fe965b080ba17ee70d",
              "IPY_MODEL_ade2c39b43444d50b74a73bd2e682c29",
              "IPY_MODEL_b2d5299453404e5382755fd918f847b3"
            ],
            "layout": "IPY_MODEL_fa5631b16078481a80e8244a178e869a"
          }
        },
        "3fc3633efff241fe965b080ba17ee70d": {
          "model_module": "@jupyter-widgets/controls",
          "model_name": "HTMLModel",
          "model_module_version": "1.5.0",
          "state": {
            "_dom_classes": [],
            "_model_module": "@jupyter-widgets/controls",
            "_model_module_version": "1.5.0",
            "_model_name": "HTMLModel",
            "_view_count": null,
            "_view_module": "@jupyter-widgets/controls",
            "_view_module_version": "1.5.0",
            "_view_name": "HTMLView",
            "description": "",
            "description_tooltip": null,
            "layout": "IPY_MODEL_2b0a5aa2a0d54b93ad1a4639e54a9490",
            "placeholder": "​",
            "style": "IPY_MODEL_5cda4d2ccbb64900824ea4e933735961",
            "value": "100%"
          }
        },
        "ade2c39b43444d50b74a73bd2e682c29": {
          "model_module": "@jupyter-widgets/controls",
          "model_name": "FloatProgressModel",
          "model_module_version": "1.5.0",
          "state": {
            "_dom_classes": [],
            "_model_module": "@jupyter-widgets/controls",
            "_model_module_version": "1.5.0",
            "_model_name": "FloatProgressModel",
            "_view_count": null,
            "_view_module": "@jupyter-widgets/controls",
            "_view_module_version": "1.5.0",
            "_view_name": "ProgressView",
            "bar_style": "success",
            "description": "",
            "description_tooltip": null,
            "layout": "IPY_MODEL_42d6986167704f38a807fe829d0b8486",
            "max": 2000,
            "min": 0,
            "orientation": "horizontal",
            "style": "IPY_MODEL_2b335823ce6b40b3ad9768a9518f9b4d",
            "value": 2000
          }
        },
        "b2d5299453404e5382755fd918f847b3": {
          "model_module": "@jupyter-widgets/controls",
          "model_name": "HTMLModel",
          "model_module_version": "1.5.0",
          "state": {
            "_dom_classes": [],
            "_model_module": "@jupyter-widgets/controls",
            "_model_module_version": "1.5.0",
            "_model_name": "HTMLModel",
            "_view_count": null,
            "_view_module": "@jupyter-widgets/controls",
            "_view_module_version": "1.5.0",
            "_view_name": "HTMLView",
            "description": "",
            "description_tooltip": null,
            "layout": "IPY_MODEL_edf2c5fdcdba48448112f50b9059049f",
            "placeholder": "​",
            "style": "IPY_MODEL_d44ff12ebb0842fb9a737fd16530bdd6",
            "value": " 2000/2000 [01:11&lt;00:00, 27.52it/s]"
          }
        },
        "fa5631b16078481a80e8244a178e869a": {
          "model_module": "@jupyter-widgets/base",
          "model_name": "LayoutModel",
          "model_module_version": "1.2.0",
          "state": {
            "_model_module": "@jupyter-widgets/base",
            "_model_module_version": "1.2.0",
            "_model_name": "LayoutModel",
            "_view_count": null,
            "_view_module": "@jupyter-widgets/base",
            "_view_module_version": "1.2.0",
            "_view_name": "LayoutView",
            "align_content": null,
            "align_items": null,
            "align_self": null,
            "border": null,
            "bottom": null,
            "display": null,
            "flex": null,
            "flex_flow": null,
            "grid_area": null,
            "grid_auto_columns": null,
            "grid_auto_flow": null,
            "grid_auto_rows": null,
            "grid_column": null,
            "grid_gap": null,
            "grid_row": null,
            "grid_template_areas": null,
            "grid_template_columns": null,
            "grid_template_rows": null,
            "height": null,
            "justify_content": null,
            "justify_items": null,
            "left": null,
            "margin": null,
            "max_height": null,
            "max_width": null,
            "min_height": null,
            "min_width": null,
            "object_fit": null,
            "object_position": null,
            "order": null,
            "overflow": null,
            "overflow_x": null,
            "overflow_y": null,
            "padding": null,
            "right": null,
            "top": null,
            "visibility": null,
            "width": null
          }
        },
        "2b0a5aa2a0d54b93ad1a4639e54a9490": {
          "model_module": "@jupyter-widgets/base",
          "model_name": "LayoutModel",
          "model_module_version": "1.2.0",
          "state": {
            "_model_module": "@jupyter-widgets/base",
            "_model_module_version": "1.2.0",
            "_model_name": "LayoutModel",
            "_view_count": null,
            "_view_module": "@jupyter-widgets/base",
            "_view_module_version": "1.2.0",
            "_view_name": "LayoutView",
            "align_content": null,
            "align_items": null,
            "align_self": null,
            "border": null,
            "bottom": null,
            "display": null,
            "flex": null,
            "flex_flow": null,
            "grid_area": null,
            "grid_auto_columns": null,
            "grid_auto_flow": null,
            "grid_auto_rows": null,
            "grid_column": null,
            "grid_gap": null,
            "grid_row": null,
            "grid_template_areas": null,
            "grid_template_columns": null,
            "grid_template_rows": null,
            "height": null,
            "justify_content": null,
            "justify_items": null,
            "left": null,
            "margin": null,
            "max_height": null,
            "max_width": null,
            "min_height": null,
            "min_width": null,
            "object_fit": null,
            "object_position": null,
            "order": null,
            "overflow": null,
            "overflow_x": null,
            "overflow_y": null,
            "padding": null,
            "right": null,
            "top": null,
            "visibility": null,
            "width": null
          }
        },
        "5cda4d2ccbb64900824ea4e933735961": {
          "model_module": "@jupyter-widgets/controls",
          "model_name": "DescriptionStyleModel",
          "model_module_version": "1.5.0",
          "state": {
            "_model_module": "@jupyter-widgets/controls",
            "_model_module_version": "1.5.0",
            "_model_name": "DescriptionStyleModel",
            "_view_count": null,
            "_view_module": "@jupyter-widgets/base",
            "_view_module_version": "1.2.0",
            "_view_name": "StyleView",
            "description_width": ""
          }
        },
        "42d6986167704f38a807fe829d0b8486": {
          "model_module": "@jupyter-widgets/base",
          "model_name": "LayoutModel",
          "model_module_version": "1.2.0",
          "state": {
            "_model_module": "@jupyter-widgets/base",
            "_model_module_version": "1.2.0",
            "_model_name": "LayoutModel",
            "_view_count": null,
            "_view_module": "@jupyter-widgets/base",
            "_view_module_version": "1.2.0",
            "_view_name": "LayoutView",
            "align_content": null,
            "align_items": null,
            "align_self": null,
            "border": null,
            "bottom": null,
            "display": null,
            "flex": null,
            "flex_flow": null,
            "grid_area": null,
            "grid_auto_columns": null,
            "grid_auto_flow": null,
            "grid_auto_rows": null,
            "grid_column": null,
            "grid_gap": null,
            "grid_row": null,
            "grid_template_areas": null,
            "grid_template_columns": null,
            "grid_template_rows": null,
            "height": null,
            "justify_content": null,
            "justify_items": null,
            "left": null,
            "margin": null,
            "max_height": null,
            "max_width": null,
            "min_height": null,
            "min_width": null,
            "object_fit": null,
            "object_position": null,
            "order": null,
            "overflow": null,
            "overflow_x": null,
            "overflow_y": null,
            "padding": null,
            "right": null,
            "top": null,
            "visibility": null,
            "width": null
          }
        },
        "2b335823ce6b40b3ad9768a9518f9b4d": {
          "model_module": "@jupyter-widgets/controls",
          "model_name": "ProgressStyleModel",
          "model_module_version": "1.5.0",
          "state": {
            "_model_module": "@jupyter-widgets/controls",
            "_model_module_version": "1.5.0",
            "_model_name": "ProgressStyleModel",
            "_view_count": null,
            "_view_module": "@jupyter-widgets/base",
            "_view_module_version": "1.2.0",
            "_view_name": "StyleView",
            "bar_color": null,
            "description_width": ""
          }
        },
        "edf2c5fdcdba48448112f50b9059049f": {
          "model_module": "@jupyter-widgets/base",
          "model_name": "LayoutModel",
          "model_module_version": "1.2.0",
          "state": {
            "_model_module": "@jupyter-widgets/base",
            "_model_module_version": "1.2.0",
            "_model_name": "LayoutModel",
            "_view_count": null,
            "_view_module": "@jupyter-widgets/base",
            "_view_module_version": "1.2.0",
            "_view_name": "LayoutView",
            "align_content": null,
            "align_items": null,
            "align_self": null,
            "border": null,
            "bottom": null,
            "display": null,
            "flex": null,
            "flex_flow": null,
            "grid_area": null,
            "grid_auto_columns": null,
            "grid_auto_flow": null,
            "grid_auto_rows": null,
            "grid_column": null,
            "grid_gap": null,
            "grid_row": null,
            "grid_template_areas": null,
            "grid_template_columns": null,
            "grid_template_rows": null,
            "height": null,
            "justify_content": null,
            "justify_items": null,
            "left": null,
            "margin": null,
            "max_height": null,
            "max_width": null,
            "min_height": null,
            "min_width": null,
            "object_fit": null,
            "object_position": null,
            "order": null,
            "overflow": null,
            "overflow_x": null,
            "overflow_y": null,
            "padding": null,
            "right": null,
            "top": null,
            "visibility": null,
            "width": null
          }
        },
        "d44ff12ebb0842fb9a737fd16530bdd6": {
          "model_module": "@jupyter-widgets/controls",
          "model_name": "DescriptionStyleModel",
          "model_module_version": "1.5.0",
          "state": {
            "_model_module": "@jupyter-widgets/controls",
            "_model_module_version": "1.5.0",
            "_model_name": "DescriptionStyleModel",
            "_view_count": null,
            "_view_module": "@jupyter-widgets/base",
            "_view_module_version": "1.2.0",
            "_view_name": "StyleView",
            "description_width": ""
          }
        },
        "f1fc96f55b1d49499817b146e35b557c": {
          "model_module": "@jupyter-widgets/controls",
          "model_name": "HBoxModel",
          "model_module_version": "1.5.0",
          "state": {
            "_dom_classes": [],
            "_model_module": "@jupyter-widgets/controls",
            "_model_module_version": "1.5.0",
            "_model_name": "HBoxModel",
            "_view_count": null,
            "_view_module": "@jupyter-widgets/controls",
            "_view_module_version": "1.5.0",
            "_view_name": "HBoxView",
            "box_style": "",
            "children": [
              "IPY_MODEL_2bfd1d77f23843d7bf95d595bc3bbb10",
              "IPY_MODEL_17abed84ced644a6b685fa660b16ea7e",
              "IPY_MODEL_ba4b04c0032546aaa03608e1f315be47"
            ],
            "layout": "IPY_MODEL_6c39781c1f6548c5a58e0985aeba5765"
          }
        },
        "2bfd1d77f23843d7bf95d595bc3bbb10": {
          "model_module": "@jupyter-widgets/controls",
          "model_name": "HTMLModel",
          "model_module_version": "1.5.0",
          "state": {
            "_dom_classes": [],
            "_model_module": "@jupyter-widgets/controls",
            "_model_module_version": "1.5.0",
            "_model_name": "HTMLModel",
            "_view_count": null,
            "_view_module": "@jupyter-widgets/controls",
            "_view_module_version": "1.5.0",
            "_view_name": "HTMLView",
            "description": "",
            "description_tooltip": null,
            "layout": "IPY_MODEL_e14bb7b1421d44f99eb6c09327a237c4",
            "placeholder": "​",
            "style": "IPY_MODEL_9216ddef1146432b80f14fe2bc82d052",
            "value": "100%"
          }
        },
        "17abed84ced644a6b685fa660b16ea7e": {
          "model_module": "@jupyter-widgets/controls",
          "model_name": "FloatProgressModel",
          "model_module_version": "1.5.0",
          "state": {
            "_dom_classes": [],
            "_model_module": "@jupyter-widgets/controls",
            "_model_module_version": "1.5.0",
            "_model_name": "FloatProgressModel",
            "_view_count": null,
            "_view_module": "@jupyter-widgets/controls",
            "_view_module_version": "1.5.0",
            "_view_name": "ProgressView",
            "bar_style": "success",
            "description": "",
            "description_tooltip": null,
            "layout": "IPY_MODEL_92c6e2422b524983b25ecb8144002810",
            "max": 10000,
            "min": 0,
            "orientation": "horizontal",
            "style": "IPY_MODEL_af3ea8adabba4266a46be106691b200f",
            "value": 10000
          }
        },
        "ba4b04c0032546aaa03608e1f315be47": {
          "model_module": "@jupyter-widgets/controls",
          "model_name": "HTMLModel",
          "model_module_version": "1.5.0",
          "state": {
            "_dom_classes": [],
            "_model_module": "@jupyter-widgets/controls",
            "_model_module_version": "1.5.0",
            "_model_name": "HTMLModel",
            "_view_count": null,
            "_view_module": "@jupyter-widgets/controls",
            "_view_module_version": "1.5.0",
            "_view_name": "HTMLView",
            "description": "",
            "description_tooltip": null,
            "layout": "IPY_MODEL_205d8d2d131e42669201c0ead7386975",
            "placeholder": "​",
            "style": "IPY_MODEL_a7ceda225fcf4883b62116a253b5dc42",
            "value": " 10000/10000 [07:18&lt;00:00, 20.74it/s]"
          }
        },
        "6c39781c1f6548c5a58e0985aeba5765": {
          "model_module": "@jupyter-widgets/base",
          "model_name": "LayoutModel",
          "model_module_version": "1.2.0",
          "state": {
            "_model_module": "@jupyter-widgets/base",
            "_model_module_version": "1.2.0",
            "_model_name": "LayoutModel",
            "_view_count": null,
            "_view_module": "@jupyter-widgets/base",
            "_view_module_version": "1.2.0",
            "_view_name": "LayoutView",
            "align_content": null,
            "align_items": null,
            "align_self": null,
            "border": null,
            "bottom": null,
            "display": null,
            "flex": null,
            "flex_flow": null,
            "grid_area": null,
            "grid_auto_columns": null,
            "grid_auto_flow": null,
            "grid_auto_rows": null,
            "grid_column": null,
            "grid_gap": null,
            "grid_row": null,
            "grid_template_areas": null,
            "grid_template_columns": null,
            "grid_template_rows": null,
            "height": null,
            "justify_content": null,
            "justify_items": null,
            "left": null,
            "margin": null,
            "max_height": null,
            "max_width": null,
            "min_height": null,
            "min_width": null,
            "object_fit": null,
            "object_position": null,
            "order": null,
            "overflow": null,
            "overflow_x": null,
            "overflow_y": null,
            "padding": null,
            "right": null,
            "top": null,
            "visibility": null,
            "width": null
          }
        },
        "e14bb7b1421d44f99eb6c09327a237c4": {
          "model_module": "@jupyter-widgets/base",
          "model_name": "LayoutModel",
          "model_module_version": "1.2.0",
          "state": {
            "_model_module": "@jupyter-widgets/base",
            "_model_module_version": "1.2.0",
            "_model_name": "LayoutModel",
            "_view_count": null,
            "_view_module": "@jupyter-widgets/base",
            "_view_module_version": "1.2.0",
            "_view_name": "LayoutView",
            "align_content": null,
            "align_items": null,
            "align_self": null,
            "border": null,
            "bottom": null,
            "display": null,
            "flex": null,
            "flex_flow": null,
            "grid_area": null,
            "grid_auto_columns": null,
            "grid_auto_flow": null,
            "grid_auto_rows": null,
            "grid_column": null,
            "grid_gap": null,
            "grid_row": null,
            "grid_template_areas": null,
            "grid_template_columns": null,
            "grid_template_rows": null,
            "height": null,
            "justify_content": null,
            "justify_items": null,
            "left": null,
            "margin": null,
            "max_height": null,
            "max_width": null,
            "min_height": null,
            "min_width": null,
            "object_fit": null,
            "object_position": null,
            "order": null,
            "overflow": null,
            "overflow_x": null,
            "overflow_y": null,
            "padding": null,
            "right": null,
            "top": null,
            "visibility": null,
            "width": null
          }
        },
        "9216ddef1146432b80f14fe2bc82d052": {
          "model_module": "@jupyter-widgets/controls",
          "model_name": "DescriptionStyleModel",
          "model_module_version": "1.5.0",
          "state": {
            "_model_module": "@jupyter-widgets/controls",
            "_model_module_version": "1.5.0",
            "_model_name": "DescriptionStyleModel",
            "_view_count": null,
            "_view_module": "@jupyter-widgets/base",
            "_view_module_version": "1.2.0",
            "_view_name": "StyleView",
            "description_width": ""
          }
        },
        "92c6e2422b524983b25ecb8144002810": {
          "model_module": "@jupyter-widgets/base",
          "model_name": "LayoutModel",
          "model_module_version": "1.2.0",
          "state": {
            "_model_module": "@jupyter-widgets/base",
            "_model_module_version": "1.2.0",
            "_model_name": "LayoutModel",
            "_view_count": null,
            "_view_module": "@jupyter-widgets/base",
            "_view_module_version": "1.2.0",
            "_view_name": "LayoutView",
            "align_content": null,
            "align_items": null,
            "align_self": null,
            "border": null,
            "bottom": null,
            "display": null,
            "flex": null,
            "flex_flow": null,
            "grid_area": null,
            "grid_auto_columns": null,
            "grid_auto_flow": null,
            "grid_auto_rows": null,
            "grid_column": null,
            "grid_gap": null,
            "grid_row": null,
            "grid_template_areas": null,
            "grid_template_columns": null,
            "grid_template_rows": null,
            "height": null,
            "justify_content": null,
            "justify_items": null,
            "left": null,
            "margin": null,
            "max_height": null,
            "max_width": null,
            "min_height": null,
            "min_width": null,
            "object_fit": null,
            "object_position": null,
            "order": null,
            "overflow": null,
            "overflow_x": null,
            "overflow_y": null,
            "padding": null,
            "right": null,
            "top": null,
            "visibility": null,
            "width": null
          }
        },
        "af3ea8adabba4266a46be106691b200f": {
          "model_module": "@jupyter-widgets/controls",
          "model_name": "ProgressStyleModel",
          "model_module_version": "1.5.0",
          "state": {
            "_model_module": "@jupyter-widgets/controls",
            "_model_module_version": "1.5.0",
            "_model_name": "ProgressStyleModel",
            "_view_count": null,
            "_view_module": "@jupyter-widgets/base",
            "_view_module_version": "1.2.0",
            "_view_name": "StyleView",
            "bar_color": null,
            "description_width": ""
          }
        },
        "205d8d2d131e42669201c0ead7386975": {
          "model_module": "@jupyter-widgets/base",
          "model_name": "LayoutModel",
          "model_module_version": "1.2.0",
          "state": {
            "_model_module": "@jupyter-widgets/base",
            "_model_module_version": "1.2.0",
            "_model_name": "LayoutModel",
            "_view_count": null,
            "_view_module": "@jupyter-widgets/base",
            "_view_module_version": "1.2.0",
            "_view_name": "LayoutView",
            "align_content": null,
            "align_items": null,
            "align_self": null,
            "border": null,
            "bottom": null,
            "display": null,
            "flex": null,
            "flex_flow": null,
            "grid_area": null,
            "grid_auto_columns": null,
            "grid_auto_flow": null,
            "grid_auto_rows": null,
            "grid_column": null,
            "grid_gap": null,
            "grid_row": null,
            "grid_template_areas": null,
            "grid_template_columns": null,
            "grid_template_rows": null,
            "height": null,
            "justify_content": null,
            "justify_items": null,
            "left": null,
            "margin": null,
            "max_height": null,
            "max_width": null,
            "min_height": null,
            "min_width": null,
            "object_fit": null,
            "object_position": null,
            "order": null,
            "overflow": null,
            "overflow_x": null,
            "overflow_y": null,
            "padding": null,
            "right": null,
            "top": null,
            "visibility": null,
            "width": null
          }
        },
        "a7ceda225fcf4883b62116a253b5dc42": {
          "model_module": "@jupyter-widgets/controls",
          "model_name": "DescriptionStyleModel",
          "model_module_version": "1.5.0",
          "state": {
            "_model_module": "@jupyter-widgets/controls",
            "_model_module_version": "1.5.0",
            "_model_name": "DescriptionStyleModel",
            "_view_count": null,
            "_view_module": "@jupyter-widgets/base",
            "_view_module_version": "1.2.0",
            "_view_name": "StyleView",
            "description_width": ""
          }
        },
        "50b708ecb746423ea2e7354525e45dbd": {
          "model_module": "@jupyter-widgets/controls",
          "model_name": "HBoxModel",
          "model_module_version": "1.5.0",
          "state": {
            "_dom_classes": [],
            "_model_module": "@jupyter-widgets/controls",
            "_model_module_version": "1.5.0",
            "_model_name": "HBoxModel",
            "_view_count": null,
            "_view_module": "@jupyter-widgets/controls",
            "_view_module_version": "1.5.0",
            "_view_name": "HBoxView",
            "box_style": "",
            "children": [
              "IPY_MODEL_f58cc05bf9214225ab151361b8e486c9",
              "IPY_MODEL_1208783389bb4db083500379f9f04ec1",
              "IPY_MODEL_64116d61ebbb49afb4c755da865fc595"
            ],
            "layout": "IPY_MODEL_7bc529f4e4f845e0968074e18ef1e880"
          }
        },
        "f58cc05bf9214225ab151361b8e486c9": {
          "model_module": "@jupyter-widgets/controls",
          "model_name": "HTMLModel",
          "model_module_version": "1.5.0",
          "state": {
            "_dom_classes": [],
            "_model_module": "@jupyter-widgets/controls",
            "_model_module_version": "1.5.0",
            "_model_name": "HTMLModel",
            "_view_count": null,
            "_view_module": "@jupyter-widgets/controls",
            "_view_module_version": "1.5.0",
            "_view_name": "HTMLView",
            "description": "",
            "description_tooltip": null,
            "layout": "IPY_MODEL_7a2daabf3b504bf49d246f04db9bff5f",
            "placeholder": "​",
            "style": "IPY_MODEL_87cca288286b45d89698a2ca2206cb67",
            "value": "100%"
          }
        },
        "1208783389bb4db083500379f9f04ec1": {
          "model_module": "@jupyter-widgets/controls",
          "model_name": "FloatProgressModel",
          "model_module_version": "1.5.0",
          "state": {
            "_dom_classes": [],
            "_model_module": "@jupyter-widgets/controls",
            "_model_module_version": "1.5.0",
            "_model_name": "FloatProgressModel",
            "_view_count": null,
            "_view_module": "@jupyter-widgets/controls",
            "_view_module_version": "1.5.0",
            "_view_name": "ProgressView",
            "bar_style": "success",
            "description": "",
            "description_tooltip": null,
            "layout": "IPY_MODEL_2980dc6eebf145b1978c17554bba0b45",
            "max": 2000,
            "min": 0,
            "orientation": "horizontal",
            "style": "IPY_MODEL_b4c7bdaa4ad6452a93742741905d7a10",
            "value": 2000
          }
        },
        "64116d61ebbb49afb4c755da865fc595": {
          "model_module": "@jupyter-widgets/controls",
          "model_name": "HTMLModel",
          "model_module_version": "1.5.0",
          "state": {
            "_dom_classes": [],
            "_model_module": "@jupyter-widgets/controls",
            "_model_module_version": "1.5.0",
            "_model_name": "HTMLModel",
            "_view_count": null,
            "_view_module": "@jupyter-widgets/controls",
            "_view_module_version": "1.5.0",
            "_view_name": "HTMLView",
            "description": "",
            "description_tooltip": null,
            "layout": "IPY_MODEL_b37efc9b93934ad396343a2d91823faf",
            "placeholder": "​",
            "style": "IPY_MODEL_7e294a59d240405db664c0eca0c29c4b",
            "value": " 2000/2000 [01:23&lt;00:00, 23.93it/s]"
          }
        },
        "7bc529f4e4f845e0968074e18ef1e880": {
          "model_module": "@jupyter-widgets/base",
          "model_name": "LayoutModel",
          "model_module_version": "1.2.0",
          "state": {
            "_model_module": "@jupyter-widgets/base",
            "_model_module_version": "1.2.0",
            "_model_name": "LayoutModel",
            "_view_count": null,
            "_view_module": "@jupyter-widgets/base",
            "_view_module_version": "1.2.0",
            "_view_name": "LayoutView",
            "align_content": null,
            "align_items": null,
            "align_self": null,
            "border": null,
            "bottom": null,
            "display": null,
            "flex": null,
            "flex_flow": null,
            "grid_area": null,
            "grid_auto_columns": null,
            "grid_auto_flow": null,
            "grid_auto_rows": null,
            "grid_column": null,
            "grid_gap": null,
            "grid_row": null,
            "grid_template_areas": null,
            "grid_template_columns": null,
            "grid_template_rows": null,
            "height": null,
            "justify_content": null,
            "justify_items": null,
            "left": null,
            "margin": null,
            "max_height": null,
            "max_width": null,
            "min_height": null,
            "min_width": null,
            "object_fit": null,
            "object_position": null,
            "order": null,
            "overflow": null,
            "overflow_x": null,
            "overflow_y": null,
            "padding": null,
            "right": null,
            "top": null,
            "visibility": null,
            "width": null
          }
        },
        "7a2daabf3b504bf49d246f04db9bff5f": {
          "model_module": "@jupyter-widgets/base",
          "model_name": "LayoutModel",
          "model_module_version": "1.2.0",
          "state": {
            "_model_module": "@jupyter-widgets/base",
            "_model_module_version": "1.2.0",
            "_model_name": "LayoutModel",
            "_view_count": null,
            "_view_module": "@jupyter-widgets/base",
            "_view_module_version": "1.2.0",
            "_view_name": "LayoutView",
            "align_content": null,
            "align_items": null,
            "align_self": null,
            "border": null,
            "bottom": null,
            "display": null,
            "flex": null,
            "flex_flow": null,
            "grid_area": null,
            "grid_auto_columns": null,
            "grid_auto_flow": null,
            "grid_auto_rows": null,
            "grid_column": null,
            "grid_gap": null,
            "grid_row": null,
            "grid_template_areas": null,
            "grid_template_columns": null,
            "grid_template_rows": null,
            "height": null,
            "justify_content": null,
            "justify_items": null,
            "left": null,
            "margin": null,
            "max_height": null,
            "max_width": null,
            "min_height": null,
            "min_width": null,
            "object_fit": null,
            "object_position": null,
            "order": null,
            "overflow": null,
            "overflow_x": null,
            "overflow_y": null,
            "padding": null,
            "right": null,
            "top": null,
            "visibility": null,
            "width": null
          }
        },
        "87cca288286b45d89698a2ca2206cb67": {
          "model_module": "@jupyter-widgets/controls",
          "model_name": "DescriptionStyleModel",
          "model_module_version": "1.5.0",
          "state": {
            "_model_module": "@jupyter-widgets/controls",
            "_model_module_version": "1.5.0",
            "_model_name": "DescriptionStyleModel",
            "_view_count": null,
            "_view_module": "@jupyter-widgets/base",
            "_view_module_version": "1.2.0",
            "_view_name": "StyleView",
            "description_width": ""
          }
        },
        "2980dc6eebf145b1978c17554bba0b45": {
          "model_module": "@jupyter-widgets/base",
          "model_name": "LayoutModel",
          "model_module_version": "1.2.0",
          "state": {
            "_model_module": "@jupyter-widgets/base",
            "_model_module_version": "1.2.0",
            "_model_name": "LayoutModel",
            "_view_count": null,
            "_view_module": "@jupyter-widgets/base",
            "_view_module_version": "1.2.0",
            "_view_name": "LayoutView",
            "align_content": null,
            "align_items": null,
            "align_self": null,
            "border": null,
            "bottom": null,
            "display": null,
            "flex": null,
            "flex_flow": null,
            "grid_area": null,
            "grid_auto_columns": null,
            "grid_auto_flow": null,
            "grid_auto_rows": null,
            "grid_column": null,
            "grid_gap": null,
            "grid_row": null,
            "grid_template_areas": null,
            "grid_template_columns": null,
            "grid_template_rows": null,
            "height": null,
            "justify_content": null,
            "justify_items": null,
            "left": null,
            "margin": null,
            "max_height": null,
            "max_width": null,
            "min_height": null,
            "min_width": null,
            "object_fit": null,
            "object_position": null,
            "order": null,
            "overflow": null,
            "overflow_x": null,
            "overflow_y": null,
            "padding": null,
            "right": null,
            "top": null,
            "visibility": null,
            "width": null
          }
        },
        "b4c7bdaa4ad6452a93742741905d7a10": {
          "model_module": "@jupyter-widgets/controls",
          "model_name": "ProgressStyleModel",
          "model_module_version": "1.5.0",
          "state": {
            "_model_module": "@jupyter-widgets/controls",
            "_model_module_version": "1.5.0",
            "_model_name": "ProgressStyleModel",
            "_view_count": null,
            "_view_module": "@jupyter-widgets/base",
            "_view_module_version": "1.2.0",
            "_view_name": "StyleView",
            "bar_color": null,
            "description_width": ""
          }
        },
        "b37efc9b93934ad396343a2d91823faf": {
          "model_module": "@jupyter-widgets/base",
          "model_name": "LayoutModel",
          "model_module_version": "1.2.0",
          "state": {
            "_model_module": "@jupyter-widgets/base",
            "_model_module_version": "1.2.0",
            "_model_name": "LayoutModel",
            "_view_count": null,
            "_view_module": "@jupyter-widgets/base",
            "_view_module_version": "1.2.0",
            "_view_name": "LayoutView",
            "align_content": null,
            "align_items": null,
            "align_self": null,
            "border": null,
            "bottom": null,
            "display": null,
            "flex": null,
            "flex_flow": null,
            "grid_area": null,
            "grid_auto_columns": null,
            "grid_auto_flow": null,
            "grid_auto_rows": null,
            "grid_column": null,
            "grid_gap": null,
            "grid_row": null,
            "grid_template_areas": null,
            "grid_template_columns": null,
            "grid_template_rows": null,
            "height": null,
            "justify_content": null,
            "justify_items": null,
            "left": null,
            "margin": null,
            "max_height": null,
            "max_width": null,
            "min_height": null,
            "min_width": null,
            "object_fit": null,
            "object_position": null,
            "order": null,
            "overflow": null,
            "overflow_x": null,
            "overflow_y": null,
            "padding": null,
            "right": null,
            "top": null,
            "visibility": null,
            "width": null
          }
        },
        "7e294a59d240405db664c0eca0c29c4b": {
          "model_module": "@jupyter-widgets/controls",
          "model_name": "DescriptionStyleModel",
          "model_module_version": "1.5.0",
          "state": {
            "_model_module": "@jupyter-widgets/controls",
            "_model_module_version": "1.5.0",
            "_model_name": "DescriptionStyleModel",
            "_view_count": null,
            "_view_module": "@jupyter-widgets/base",
            "_view_module_version": "1.2.0",
            "_view_name": "StyleView",
            "description_width": ""
          }
        }
      }
    }
  },
  "cells": [
    {
      "cell_type": "markdown",
      "source": [
        "#Deep Learning. Задание №2.\n",
        "###Вариант 5. Классификация по представлениям из трансформера.\n",
        "###Ашинов Б.Р. 317 группа."
      ],
      "metadata": {
        "id": "c4Qu30duSI1Q"
      }
    },
    {
      "cell_type": "markdown",
      "source": [
        "Необходимо рассмотреть задачу классификации текстов, исследовать различные архитектуры трансформеров и различные способы получить из них векторные представления, обучить классические ML-модели на этих представлениях, сделать выводы о том, какая архитектура и какой способ представления подходит лучше для рассматриваемой задачи, подобрать наиболее удачную классическую модель классификации.\\\n",
        "Для исследования использовался датасет IMDb Review: \\\n",
        " https://ai.stanford.edu/~amaas/data/sentiment/ \\\n",
        "https://pytorch.org/text/stable/_modules/torchtext/datasets/imdb.html"
      ],
      "metadata": {
        "id": "737CFl6XSe8l"
      }
    },
    {
      "cell_type": "markdown",
      "source": [
        "##Всякие импорты"
      ],
      "metadata": {
        "id": "VeHSvAvgVGdP"
      }
    },
    {
      "cell_type": "code",
      "source": [
        "from google.colab import output"
      ],
      "metadata": {
        "id": "5CxPRlqeTwE7"
      },
      "execution_count": 1,
      "outputs": []
    },
    {
      "cell_type": "code",
      "source": [
        "!pip install torchdata\n",
        "output.clear()"
      ],
      "metadata": {
        "id": "TR4ahx746QLc"
      },
      "execution_count": 2,
      "outputs": []
    },
    {
      "cell_type": "code",
      "source": [
        "!pip install sentencepiece\n",
        "output.clear()"
      ],
      "metadata": {
        "id": "zC0IA8e7jhyC"
      },
      "execution_count": 3,
      "outputs": []
    },
    {
      "cell_type": "code",
      "source": [
        "!pip install transformers\n",
        "output.clear()"
      ],
      "metadata": {
        "id": "GAaDyutxPSUk"
      },
      "execution_count": 4,
      "outputs": []
    },
    {
      "cell_type": "code",
      "source": [
        "!pip install catboost\n",
        "output.clear()"
      ],
      "metadata": {
        "id": "QyfyBhVEzcr3"
      },
      "execution_count": 5,
      "outputs": []
    },
    {
      "cell_type": "code",
      "execution_count": 6,
      "metadata": {
        "id": "DfIZF4P5ISEC"
      },
      "outputs": [],
      "source": [
        "import numpy as np\n",
        "import torch\n",
        "from torchvision.datasets import SVHN\n",
        "import torchvision\n",
        "from torch.utils.data import random_split\n",
        "from torch.utils.data.dataloader import DataLoader\n",
        "import torch.nn as nn\n",
        "import torch.optim as optim\n",
        "\n",
        "\n",
        "import matplotlib\n",
        "import matplotlib.pyplot as plt\n",
        "import matplotlib_inline\n",
        "%matplotlib inline\n",
        "%config InlineBackend.figure_formats = ['pdf', 'svg']\n",
        "from tqdm.notebook import tqdm\n",
        "from functools import partial\n",
        "import torchtext.data\n",
        "import math"
      ]
    },
    {
      "cell_type": "code",
      "source": [
        "from transformers import BertTokenizer, BertModel, AlbertTokenizer, AlbertModel, RobertaTokenizer, RobertaModel"
      ],
      "metadata": {
        "id": "gxNURnFIWxOA"
      },
      "execution_count": 7,
      "outputs": []
    },
    {
      "cell_type": "code",
      "source": [
        "device = torch.device('cuda:0' if torch.cuda.is_available() else 'cpu')\n",
        "device"
      ],
      "metadata": {
        "colab": {
          "base_uri": "https://localhost:8080/"
        },
        "id": "a9MJ3EJrV1Ac",
        "outputId": "0b552854-e542-48ab-b579-bfcbfe0f7582"
      },
      "execution_count": 8,
      "outputs": [
        {
          "output_type": "execute_result",
          "data": {
            "text/plain": [
              "device(type='cuda', index=0)"
            ]
          },
          "metadata": {},
          "execution_count": 8
        }
      ]
    },
    {
      "cell_type": "code",
      "source": [
        "from sklearn.metrics import accuracy_score, roc_auc_score\n",
        "from sklearn.linear_model import LogisticRegression, RidgeClassifier\n",
        "from sklearn.svm import SVC\n",
        "from sklearn.ensemble import RandomForestClassifier\n",
        "\n",
        "from sklearn.model_selection import GridSearchCV\n",
        "\n",
        "from lightgbm import LGBMClassifier\n",
        "from catboost import CatBoostClassifier"
      ],
      "metadata": {
        "id": "PtRlxqU6Xdw-"
      },
      "execution_count": 9,
      "outputs": []
    },
    {
      "cell_type": "markdown",
      "source": [
        "##Важные функции"
      ],
      "metadata": {
        "id": "ufunHFFmVMw5"
      }
    },
    {
      "cell_type": "markdown",
      "source": [
        "Здесь реализованы функции для получения векторных представлений из текстов на основе трансформера. Каждая функция получает на вход соответствующий токенизатор, предобученный трансформер и тексты. Возвращает векторные представления текстов в виде матрицы $l\\times d$, $l$ - размер выборки, $d$ - размерность вектора-представления одного текста."
      ],
      "metadata": {
        "id": "e_6aWUxCcQHl"
      }
    },
    {
      "cell_type": "markdown",
      "source": [
        "1. В этом способе получения векторов усредняем выходы последнего слоя, получаем вектор длины 768 для каждого текста."
      ],
      "metadata": {
        "id": "w7kJpBv552pu"
      }
    },
    {
      "cell_type": "code",
      "source": [
        "def get_embedds_last_mean(tokenizer, transformer, texts, device, *args, **kwargs):\n",
        "    x = None\n",
        "    transformer.eval()\n",
        "    transfromer = transformer.to(device)\n",
        "    with torch.no_grad():\n",
        "        for i in tqdm(range(0, len(texts))):\n",
        "            tokenized = tokenizer(texts[i], return_tensors=\"pt\", padding='max_length', truncation=True, max_length=512)\n",
        "            tokenized = tokenized.to(device)\n",
        "            out = transformer(output_hidden_states=True, **tokenized).last_hidden_state\n",
        "            out = out.to('cpu')\n",
        "            out = out.detach().numpy().mean(axis=1)\n",
        "            if x is None:\n",
        "                x = out\n",
        "            else:\n",
        "                x = np.concatenate([x, out], axis=0)\n",
        "            tokenized = None\n",
        "            out = None\n",
        "    return x"
      ],
      "metadata": {
        "id": "Uma6pD4lT9m-"
      },
      "execution_count": 10,
      "outputs": []
    },
    {
      "cell_type": "markdown",
      "source": [
        "2. Конкатенируем выходы 4 последних скрытых слоев для каждого токена, затем усредняем по тексту и получаем для каждого текста вектор длины 3072 = 4 * 768."
      ],
      "metadata": {
        "id": "Srskm1sS56ZA"
      }
    },
    {
      "cell_type": "code",
      "source": [
        "def get_embedds_4last_concat_mean(tokenizer, transformer, texts, device, *args, **kwargs):\n",
        "    x = None\n",
        "    transformer.eval()\n",
        "    transfromer = transformer.to(device)\n",
        "    with torch.no_grad():\n",
        "        for i in tqdm(range(0, len(texts))):\n",
        "            tokenized = tokenizer(texts[i], return_tensors=\"pt\", padding='max_length', truncation=True, max_length=512)\n",
        "            tokenized = tokenized.to(device)\n",
        "            hidden = transformer(output_hidden_states=True, **tokenized).hidden_states\n",
        "            \n",
        "            embeddings = torch.stack(hidden, dim=0).to('cpu')\n",
        "            embeddings = embeddings.detach().numpy().squeeze(axis=1).transpose(1, 0, 2)\n",
        "            last4_cats = []\n",
        "            for tok in embeddings:\n",
        "                last4_cat = np.concatenate((tok[-1], tok[-2], tok[-3], tok[-4]), axis=0)\n",
        "                last4_cats.append(last4_cat)\n",
        "            last4_cats_mean = np.array(last4_cats).mean(axis=0)\n",
        "            last4_cats_mean = last4_cats_mean.reshape(1, last4_cats_mean.size)\n",
        "            if x is None:\n",
        "                x = last4_cats_mean\n",
        "            else:\n",
        "                x = np.concatenate([x, last4_cats_mean], axis=0)\n",
        "            tokenized = None\n",
        "            out = None\n",
        "    return x"
      ],
      "metadata": {
        "id": "IqgQi_dizqzE"
      },
      "execution_count": 11,
      "outputs": []
    },
    {
      "cell_type": "markdown",
      "source": [
        "3. Суммируем 4 последних скрытых слоя для каждого токена, затем, как ранее, усредняем по тексту и получаем вектор длины 768."
      ],
      "metadata": {
        "id": "5WGGJz477Qu3"
      }
    },
    {
      "cell_type": "code",
      "source": [
        "def get_embedds_4last_sum_mean(tokenizer, transformer, texts, device, *args, **kwargs):\n",
        "    x = None\n",
        "    transformer.eval()\n",
        "    transfromer = transformer.to(device)\n",
        "    with torch.no_grad():\n",
        "        for i in tqdm(range(0, len(texts))):\n",
        "            tokenized = tokenizer(texts[i], return_tensors=\"pt\", padding='max_length', truncation=True, max_length=512)\n",
        "            tokenized = tokenized.to(device)\n",
        "            hidden = transformer(output_hidden_states=True, **tokenized).hidden_states\n",
        "            \n",
        "            embeddings = torch.stack(hidden, dim=0).to('cpu')\n",
        "            embeddings = embeddings.detach().numpy().squeeze(axis=1).transpose(1, 0, 2)\n",
        "            last4_sums = []\n",
        "            for tok in embeddings:\n",
        "                last4_sum = np.sum((tok[-4:]), axis=0)\n",
        "                last4_sums.append(last4_sum)\n",
        "            last4_sums_mean = np.array(last4_sums).mean(axis=0)\n",
        "            last4_sums_mean = last4_sums_mean.reshape(1, last4_sums_mean.size)\n",
        "            if x is None:\n",
        "                x = last4_sums_mean\n",
        "            else:\n",
        "                x = np.concatenate([x, last4_sums_mean], axis=0)\n",
        "            tokenized = None\n",
        "            out = None\n",
        "    return x"
      ],
      "metadata": {
        "id": "yzFXqCXBz0Yy"
      },
      "execution_count": 12,
      "outputs": []
    },
    {
      "cell_type": "markdown",
      "source": [
        "##Данные"
      ],
      "metadata": {
        "id": "GMYXukrtVQ84"
      }
    },
    {
      "cell_type": "markdown",
      "source": [
        "Датасет - отзывы на фильмы IMDB. Возьмем не полный датасет - 10000 случайных текстов из обучающей выборки и 2000 случайных текстов из тестовой(чтобы быстрее проводить эксперименты)."
      ],
      "metadata": {
        "id": "3epmvMe5VTI9"
      }
    },
    {
      "cell_type": "code",
      "source": [
        "from torchtext.datasets import IMDB\n",
        "train_data = IMDB(split='train')\n",
        "test_data = IMDB(split='test')\n",
        "\n",
        "train_texts = []\n",
        "train_labels = []\n",
        "test_texts = []\n",
        "test_labels = []\n",
        "\n",
        "for label, line in train_data:\n",
        "    train_texts.append(line)\n",
        "    train_labels.append(label)\n",
        "\n",
        "for label, line in test_data:\n",
        "    test_texts.append(line)\n",
        "    test_labels.append(label)"
      ],
      "metadata": {
        "id": "A2SNb8bMIqru"
      },
      "execution_count": 13,
      "outputs": []
    },
    {
      "cell_type": "code",
      "source": [
        "np.random.seed(seed=777)\n",
        "train_inds = np.random.choice(len(train_labels), size=10000, replace=False)\n",
        "test_inds = np.random.choice(len(test_labels), size=2000, replace=False)\n",
        "\n",
        "train_texts, test_texts = np.array(train_texts)[train_inds], np.array(test_texts)[test_inds]\n",
        "train_labels, test_labels = np.array(train_labels)[train_inds], np.array(test_labels)[test_inds]"
      ],
      "metadata": {
        "id": "OhVEwXloYfee"
      },
      "execution_count": 14,
      "outputs": []
    },
    {
      "cell_type": "code",
      "source": [
        "y_train, y_test = np.zeros(len(train_labels), dtype=np.int64), np.zeros(len(test_labels), dtype=np.int64)\n",
        "y_train[np.array(train_labels) == 'pos'] = 1\n",
        "y_test[np.array(test_labels) == 'pos'] = 1"
      ],
      "metadata": {
        "id": "6VbjA0Z3WvBj"
      },
      "execution_count": 15,
      "outputs": []
    },
    {
      "cell_type": "code",
      "source": [
        "x1 = np.arange(0, 2) - 0.2\n",
        "x2 = np.arange(0, 2) + 0.2\n",
        "plt.bar(x1, [y_train.sum(), y_train.size - y_train.sum()], color='red', label='Train', width=0.4)\n",
        "plt.bar(x2, [y_test.sum(), y_test.size - y_test.sum()], color='blue', label='test', width=0.4)\n",
        "plt.xticks([0, 1])\n",
        "plt.xlabel(\"Класс\", fontsize=13)\n",
        "plt.ylabel(\"Количество представителей\", fontsize=13)\n",
        "plt.legend()\n",
        "plt.show()"
      ],
      "metadata": {
        "colab": {
          "base_uri": "https://localhost:8080/",
          "height": 375
        },
        "id": "JbLeiOJUYz6A",
        "outputId": "fa000ca8-fb7d-4e2e-e66c-b929daca6946"
      },
      "execution_count": 16,
      "outputs": [
        {
          "output_type": "display_data",
          "data": {
            "text/plain": [
              "<Figure size 432x288 with 1 Axes>"
            ],
            "image/svg+xml": "<?xml version=\"1.0\" encoding=\"utf-8\" standalone=\"no\"?>\n<!DOCTYPE svg PUBLIC \"-//W3C//DTD SVG 1.1//EN\"\n  \"http://www.w3.org/Graphics/SVG/1.1/DTD/svg11.dtd\">\n<!-- Created with matplotlib (https://matplotlib.org/) -->\n<svg height=\"265.099687pt\" version=\"1.1\" viewBox=\"0 0 398.231562 265.099687\" width=\"398.231562pt\" xmlns=\"http://www.w3.org/2000/svg\" xmlns:xlink=\"http://www.w3.org/1999/xlink\">\n <defs>\n  <style type=\"text/css\">\n*{stroke-linecap:butt;stroke-linejoin:round;}\n  </style>\n </defs>\n <g id=\"figure_1\">\n  <g id=\"patch_1\">\n   <path d=\"M 0 265.099687 \nL 398.231562 265.099687 \nL 398.231562 0 \nL 0 0 \nz\n\" style=\"fill:none;\"/>\n  </g>\n  <g id=\"axes_1\">\n   <g id=\"patch_2\">\n    <path d=\"M 56.231563 224.64 \nL 391.031563 224.64 \nL 391.031563 7.2 \nL 56.231563 7.2 \nz\n\" style=\"fill:#ffffff;\"/>\n   </g>\n   <g id=\"patch_3\">\n    <path clip-path=\"url(#pc013890f1a)\" d=\"M 71.449744 224.64 \nL 139.086108 224.64 \nL 139.086108 17.554286 \nL 71.449744 17.554286 \nz\n\" style=\"fill:#ff0000;\"/>\n   </g>\n   <g id=\"patch_4\">\n    <path clip-path=\"url(#pc013890f1a)\" d=\"M 240.540653 224.64 \nL 308.177017 224.64 \nL 308.177017 17.885358 \nL 240.540653 17.885358 \nz\n\" style=\"fill:#ff0000;\"/>\n   </g>\n   <g id=\"patch_5\">\n    <path clip-path=\"url(#pc013890f1a)\" d=\"M 139.086108 224.64 \nL 206.722472 224.64 \nL 206.722472 183.297348 \nL 139.086108 183.297348 \nz\n\" style=\"fill:#0000ff;\"/>\n   </g>\n   <g id=\"patch_6\">\n    <path clip-path=\"url(#pc013890f1a)\" d=\"M 308.177017 224.64 \nL 375.813381 224.64 \nL 375.813381 183.21458 \nL 308.177017 183.21458 \nz\n\" style=\"fill:#0000ff;\"/>\n   </g>\n   <g id=\"matplotlib.axis_1\">\n    <g id=\"xtick_1\">\n     <g id=\"line2d_1\">\n      <defs>\n       <path d=\"M 0 0 \nL 0 3.5 \n\" id=\"m851f499c1b\" style=\"stroke:#000000;stroke-width:0.8;\"/>\n      </defs>\n      <g>\n       <use style=\"stroke:#000000;stroke-width:0.8;\" x=\"139.086108\" xlink:href=\"#m851f499c1b\" y=\"224.64\"/>\n      </g>\n     </g>\n     <g id=\"text_1\">\n      <!-- 0 -->\n      <defs>\n       <path d=\"M 31.78125 66.40625 \nQ 24.171875 66.40625 20.328125 58.90625 \nQ 16.5 51.421875 16.5 36.375 \nQ 16.5 21.390625 20.328125 13.890625 \nQ 24.171875 6.390625 31.78125 6.390625 \nQ 39.453125 6.390625 43.28125 13.890625 \nQ 47.125 21.390625 47.125 36.375 \nQ 47.125 51.421875 43.28125 58.90625 \nQ 39.453125 66.40625 31.78125 66.40625 \nz\nM 31.78125 74.21875 \nQ 44.046875 74.21875 50.515625 64.515625 \nQ 56.984375 54.828125 56.984375 36.375 \nQ 56.984375 17.96875 50.515625 8.265625 \nQ 44.046875 -1.421875 31.78125 -1.421875 \nQ 19.53125 -1.421875 13.0625 8.265625 \nQ 6.59375 17.96875 6.59375 36.375 \nQ 6.59375 54.828125 13.0625 64.515625 \nQ 19.53125 74.21875 31.78125 74.21875 \nz\n\" id=\"DejaVuSans-48\"/>\n      </defs>\n      <g transform=\"translate(135.904858 239.238437)scale(0.1 -0.1)\">\n       <use xlink:href=\"#DejaVuSans-48\"/>\n      </g>\n     </g>\n    </g>\n    <g id=\"xtick_2\">\n     <g id=\"line2d_2\">\n      <g>\n       <use style=\"stroke:#000000;stroke-width:0.8;\" x=\"308.177017\" xlink:href=\"#m851f499c1b\" y=\"224.64\"/>\n      </g>\n     </g>\n     <g id=\"text_2\">\n      <!-- 1 -->\n      <defs>\n       <path d=\"M 12.40625 8.296875 \nL 28.515625 8.296875 \nL 28.515625 63.921875 \nL 10.984375 60.40625 \nL 10.984375 69.390625 \nL 28.421875 72.90625 \nL 38.28125 72.90625 \nL 38.28125 8.296875 \nL 54.390625 8.296875 \nL 54.390625 0 \nL 12.40625 0 \nz\n\" id=\"DejaVuSans-49\"/>\n      </defs>\n      <g transform=\"translate(304.995767 239.238437)scale(0.1 -0.1)\">\n       <use xlink:href=\"#DejaVuSans-49\"/>\n      </g>\n     </g>\n    </g>\n    <g id=\"text_3\">\n     <!-- Класс -->\n     <defs>\n      <path d=\"M 9.8125 72.90625 \nL 19.671875 72.90625 \nL 19.671875 36.859375 \nL 54.9375 72.90625 \nL 67.578125 72.90625 \nL 39.40625 44.09375 \nL 69.046875 0 \nL 58.296875 0 \nL 33.015625 37.546875 \nL 19.671875 23.921875 \nL 19.671875 0 \nL 9.8125 0 \nz\n\" id=\"DejaVuSans-1050\"/>\n      <path d=\"M 3.71875 0 \nL 3.71875 7.46875 \nQ 12.59375 8.84375 15.328125 14.984375 \nQ 18.65625 23.640625 18.65625 45.75 \nL 18.65625 54.6875 \nL 55.609375 54.6875 \nL 55.609375 0 \nL 46.625 0 \nL 46.625 47.515625 \nL 27.640625 47.515625 \nL 27.640625 42.09375 \nQ 27.640625 21 23.34375 11.53125 \nQ 18.75 1.421875 3.71875 0 \nz\n\" id=\"DejaVuSans-1083\"/>\n      <path d=\"M 34.28125 27.484375 \nQ 23.390625 27.484375 19.1875 25 \nQ 14.984375 22.515625 14.984375 16.5 \nQ 14.984375 11.71875 18.140625 8.90625 \nQ 21.296875 6.109375 26.703125 6.109375 \nQ 34.1875 6.109375 38.703125 11.40625 \nQ 43.21875 16.703125 43.21875 25.484375 \nL 43.21875 27.484375 \nz\nM 52.203125 31.203125 \nL 52.203125 0 \nL 43.21875 0 \nL 43.21875 8.296875 \nQ 40.140625 3.328125 35.546875 0.953125 \nQ 30.953125 -1.421875 24.3125 -1.421875 \nQ 15.921875 -1.421875 10.953125 3.296875 \nQ 6 8.015625 6 15.921875 \nQ 6 25.140625 12.171875 29.828125 \nQ 18.359375 34.515625 30.609375 34.515625 \nL 43.21875 34.515625 \nL 43.21875 35.40625 \nQ 43.21875 41.609375 39.140625 45 \nQ 35.0625 48.390625 27.6875 48.390625 \nQ 23 48.390625 18.546875 47.265625 \nQ 14.109375 46.140625 10.015625 43.890625 \nL 10.015625 52.203125 \nQ 14.9375 54.109375 19.578125 55.046875 \nQ 24.21875 56 28.609375 56 \nQ 40.484375 56 46.34375 49.84375 \nQ 52.203125 43.703125 52.203125 31.203125 \nz\n\" id=\"DejaVuSans-1072\"/>\n      <path d=\"M 48.78125 52.59375 \nL 48.78125 44.1875 \nQ 44.96875 46.296875 41.140625 47.34375 \nQ 37.3125 48.390625 33.40625 48.390625 \nQ 24.65625 48.390625 19.8125 42.84375 \nQ 14.984375 37.3125 14.984375 27.296875 \nQ 14.984375 17.28125 19.8125 11.734375 \nQ 24.65625 6.203125 33.40625 6.203125 \nQ 37.3125 6.203125 41.140625 7.25 \nQ 44.96875 8.296875 48.78125 10.40625 \nL 48.78125 2.09375 \nQ 45.015625 0.34375 40.984375 -0.53125 \nQ 36.96875 -1.421875 32.421875 -1.421875 \nQ 20.0625 -1.421875 12.78125 6.34375 \nQ 5.515625 14.109375 5.515625 27.296875 \nQ 5.515625 40.671875 12.859375 48.328125 \nQ 20.21875 56 33.015625 56 \nQ 37.15625 56 41.109375 55.140625 \nQ 45.0625 54.296875 48.78125 52.59375 \nz\n\" id=\"DejaVuSans-1089\"/>\n     </defs>\n     <g transform=\"translate(203.730391 255.196094)scale(0.13 -0.13)\">\n      <use xlink:href=\"#DejaVuSans-1050\"/>\n      <use x=\"70.996094\" xlink:href=\"#DejaVuSans-1083\"/>\n      <use x=\"134.912109\" xlink:href=\"#DejaVuSans-1072\"/>\n      <use x=\"196.191406\" xlink:href=\"#DejaVuSans-1089\"/>\n      <use x=\"251.171875\" xlink:href=\"#DejaVuSans-1089\"/>\n     </g>\n    </g>\n   </g>\n   <g id=\"matplotlib.axis_2\">\n    <g id=\"ytick_1\">\n     <g id=\"line2d_3\">\n      <defs>\n       <path d=\"M 0 0 \nL -3.5 0 \n\" id=\"m5b47ff36e2\" style=\"stroke:#000000;stroke-width:0.8;\"/>\n      </defs>\n      <g>\n       <use style=\"stroke:#000000;stroke-width:0.8;\" x=\"56.231563\" xlink:href=\"#m5b47ff36e2\" y=\"224.64\"/>\n      </g>\n     </g>\n     <g id=\"text_4\">\n      <!-- 0 -->\n      <g transform=\"translate(42.869063 228.439219)scale(0.1 -0.1)\">\n       <use xlink:href=\"#DejaVuSans-48\"/>\n      </g>\n     </g>\n    </g>\n    <g id=\"ytick_2\">\n     <g id=\"line2d_4\">\n      <g>\n       <use style=\"stroke:#000000;stroke-width:0.8;\" x=\"56.231563\" xlink:href=\"#m5b47ff36e2\" y=\"183.255964\"/>\n      </g>\n     </g>\n     <g id=\"text_5\">\n      <!-- 1000 -->\n      <g transform=\"translate(23.781563 187.055183)scale(0.1 -0.1)\">\n       <use xlink:href=\"#DejaVuSans-49\"/>\n       <use x=\"63.623047\" xlink:href=\"#DejaVuSans-48\"/>\n       <use x=\"127.246094\" xlink:href=\"#DejaVuSans-48\"/>\n       <use x=\"190.869141\" xlink:href=\"#DejaVuSans-48\"/>\n      </g>\n     </g>\n    </g>\n    <g id=\"ytick_3\">\n     <g id=\"line2d_5\">\n      <g>\n       <use style=\"stroke:#000000;stroke-width:0.8;\" x=\"56.231563\" xlink:href=\"#m5b47ff36e2\" y=\"141.871929\"/>\n      </g>\n     </g>\n     <g id=\"text_6\">\n      <!-- 2000 -->\n      <defs>\n       <path d=\"M 19.1875 8.296875 \nL 53.609375 8.296875 \nL 53.609375 0 \nL 7.328125 0 \nL 7.328125 8.296875 \nQ 12.9375 14.109375 22.625 23.890625 \nQ 32.328125 33.6875 34.8125 36.53125 \nQ 39.546875 41.84375 41.421875 45.53125 \nQ 43.3125 49.21875 43.3125 52.78125 \nQ 43.3125 58.59375 39.234375 62.25 \nQ 35.15625 65.921875 28.609375 65.921875 \nQ 23.96875 65.921875 18.8125 64.3125 \nQ 13.671875 62.703125 7.8125 59.421875 \nL 7.8125 69.390625 \nQ 13.765625 71.78125 18.9375 73 \nQ 24.125 74.21875 28.421875 74.21875 \nQ 39.75 74.21875 46.484375 68.546875 \nQ 53.21875 62.890625 53.21875 53.421875 \nQ 53.21875 48.921875 51.53125 44.890625 \nQ 49.859375 40.875 45.40625 35.40625 \nQ 44.1875 33.984375 37.640625 27.21875 \nQ 31.109375 20.453125 19.1875 8.296875 \nz\n\" id=\"DejaVuSans-50\"/>\n      </defs>\n      <g transform=\"translate(23.781563 145.671147)scale(0.1 -0.1)\">\n       <use xlink:href=\"#DejaVuSans-50\"/>\n       <use x=\"63.623047\" xlink:href=\"#DejaVuSans-48\"/>\n       <use x=\"127.246094\" xlink:href=\"#DejaVuSans-48\"/>\n       <use x=\"190.869141\" xlink:href=\"#DejaVuSans-48\"/>\n      </g>\n     </g>\n    </g>\n    <g id=\"ytick_4\">\n     <g id=\"line2d_6\">\n      <g>\n       <use style=\"stroke:#000000;stroke-width:0.8;\" x=\"56.231563\" xlink:href=\"#m5b47ff36e2\" y=\"100.487893\"/>\n      </g>\n     </g>\n     <g id=\"text_7\">\n      <!-- 3000 -->\n      <defs>\n       <path d=\"M 40.578125 39.3125 \nQ 47.65625 37.796875 51.625 33 \nQ 55.609375 28.21875 55.609375 21.1875 \nQ 55.609375 10.40625 48.1875 4.484375 \nQ 40.765625 -1.421875 27.09375 -1.421875 \nQ 22.515625 -1.421875 17.65625 -0.515625 \nQ 12.796875 0.390625 7.625 2.203125 \nL 7.625 11.71875 \nQ 11.71875 9.328125 16.59375 8.109375 \nQ 21.484375 6.890625 26.8125 6.890625 \nQ 36.078125 6.890625 40.9375 10.546875 \nQ 45.796875 14.203125 45.796875 21.1875 \nQ 45.796875 27.640625 41.28125 31.265625 \nQ 36.765625 34.90625 28.71875 34.90625 \nL 20.21875 34.90625 \nL 20.21875 43.015625 \nL 29.109375 43.015625 \nQ 36.375 43.015625 40.234375 45.921875 \nQ 44.09375 48.828125 44.09375 54.296875 \nQ 44.09375 59.90625 40.109375 62.90625 \nQ 36.140625 65.921875 28.71875 65.921875 \nQ 24.65625 65.921875 20.015625 65.03125 \nQ 15.375 64.15625 9.8125 62.3125 \nL 9.8125 71.09375 \nQ 15.4375 72.65625 20.34375 73.4375 \nQ 25.25 74.21875 29.59375 74.21875 \nQ 40.828125 74.21875 47.359375 69.109375 \nQ 53.90625 64.015625 53.90625 55.328125 \nQ 53.90625 49.265625 50.4375 45.09375 \nQ 46.96875 40.921875 40.578125 39.3125 \nz\n\" id=\"DejaVuSans-51\"/>\n      </defs>\n      <g transform=\"translate(23.781563 104.287112)scale(0.1 -0.1)\">\n       <use xlink:href=\"#DejaVuSans-51\"/>\n       <use x=\"63.623047\" xlink:href=\"#DejaVuSans-48\"/>\n       <use x=\"127.246094\" xlink:href=\"#DejaVuSans-48\"/>\n       <use x=\"190.869141\" xlink:href=\"#DejaVuSans-48\"/>\n      </g>\n     </g>\n    </g>\n    <g id=\"ytick_5\">\n     <g id=\"line2d_7\">\n      <g>\n       <use style=\"stroke:#000000;stroke-width:0.8;\" x=\"56.231563\" xlink:href=\"#m5b47ff36e2\" y=\"59.103857\"/>\n      </g>\n     </g>\n     <g id=\"text_8\">\n      <!-- 4000 -->\n      <defs>\n       <path d=\"M 37.796875 64.3125 \nL 12.890625 25.390625 \nL 37.796875 25.390625 \nz\nM 35.203125 72.90625 \nL 47.609375 72.90625 \nL 47.609375 25.390625 \nL 58.015625 25.390625 \nL 58.015625 17.1875 \nL 47.609375 17.1875 \nL 47.609375 0 \nL 37.796875 0 \nL 37.796875 17.1875 \nL 4.890625 17.1875 \nL 4.890625 26.703125 \nz\n\" id=\"DejaVuSans-52\"/>\n      </defs>\n      <g transform=\"translate(23.781563 62.903076)scale(0.1 -0.1)\">\n       <use xlink:href=\"#DejaVuSans-52\"/>\n       <use x=\"63.623047\" xlink:href=\"#DejaVuSans-48\"/>\n       <use x=\"127.246094\" xlink:href=\"#DejaVuSans-48\"/>\n       <use x=\"190.869141\" xlink:href=\"#DejaVuSans-48\"/>\n      </g>\n     </g>\n    </g>\n    <g id=\"ytick_6\">\n     <g id=\"line2d_8\">\n      <g>\n       <use style=\"stroke:#000000;stroke-width:0.8;\" x=\"56.231563\" xlink:href=\"#m5b47ff36e2\" y=\"17.719822\"/>\n      </g>\n     </g>\n     <g id=\"text_9\">\n      <!-- 5000 -->\n      <defs>\n       <path d=\"M 10.796875 72.90625 \nL 49.515625 72.90625 \nL 49.515625 64.59375 \nL 19.828125 64.59375 \nL 19.828125 46.734375 \nQ 21.96875 47.46875 24.109375 47.828125 \nQ 26.265625 48.1875 28.421875 48.1875 \nQ 40.625 48.1875 47.75 41.5 \nQ 54.890625 34.8125 54.890625 23.390625 \nQ 54.890625 11.625 47.5625 5.09375 \nQ 40.234375 -1.421875 26.90625 -1.421875 \nQ 22.3125 -1.421875 17.546875 -0.640625 \nQ 12.796875 0.140625 7.71875 1.703125 \nL 7.71875 11.625 \nQ 12.109375 9.234375 16.796875 8.0625 \nQ 21.484375 6.890625 26.703125 6.890625 \nQ 35.15625 6.890625 40.078125 11.328125 \nQ 45.015625 15.765625 45.015625 23.390625 \nQ 45.015625 31 40.078125 35.4375 \nQ 35.15625 39.890625 26.703125 39.890625 \nQ 22.75 39.890625 18.8125 39.015625 \nQ 14.890625 38.140625 10.796875 36.28125 \nz\n\" id=\"DejaVuSans-53\"/>\n      </defs>\n      <g transform=\"translate(23.781563 21.519041)scale(0.1 -0.1)\">\n       <use xlink:href=\"#DejaVuSans-53\"/>\n       <use x=\"63.623047\" xlink:href=\"#DejaVuSans-48\"/>\n       <use x=\"127.246094\" xlink:href=\"#DejaVuSans-48\"/>\n       <use x=\"190.869141\" xlink:href=\"#DejaVuSans-48\"/>\n      </g>\n     </g>\n    </g>\n    <g id=\"text_10\">\n     <!-- Количество представителей -->\n     <defs>\n      <path d=\"M 30.609375 48.390625 \nQ 23.390625 48.390625 19.1875 42.75 \nQ 14.984375 37.109375 14.984375 27.296875 \nQ 14.984375 17.484375 19.15625 11.84375 \nQ 23.34375 6.203125 30.609375 6.203125 \nQ 37.796875 6.203125 41.984375 11.859375 \nQ 46.1875 17.53125 46.1875 27.296875 \nQ 46.1875 37.015625 41.984375 42.703125 \nQ 37.796875 48.390625 30.609375 48.390625 \nz\nM 30.609375 56 \nQ 42.328125 56 49.015625 48.375 \nQ 55.71875 40.765625 55.71875 27.296875 \nQ 55.71875 13.875 49.015625 6.21875 \nQ 42.328125 -1.421875 30.609375 -1.421875 \nQ 18.84375 -1.421875 12.171875 6.21875 \nQ 5.515625 13.875 5.515625 27.296875 \nQ 5.515625 40.765625 12.171875 48.375 \nQ 18.84375 56 30.609375 56 \nz\n\" id=\"DejaVuSans-1086\"/>\n      <path d=\"M 55.90625 54.6875 \nL 55.90625 0 \nL 46.96875 0 \nL 46.96875 43.890625 \nL 20.609375 0 \nL 9.078125 0 \nL 9.078125 54.6875 \nL 18.015625 54.6875 \nL 18.015625 10.890625 \nL 44.34375 54.6875 \nz\n\" id=\"DejaVuSans-1080\"/>\n      <path d=\"M 41.015625 0 \nL 41.015625 23 \nL 24.265625 23 \nQ 16.796875 23 11.8125 27.640625 \nQ 7.328125 31.84375 7.328125 40.828125 \nL 7.328125 54.6875 \nL 16.3125 54.6875 \nL 16.3125 41.65625 \nQ 16.3125 35.9375 18.84375 33.0625 \nQ 21.4375 30.171875 26.515625 30.171875 \nL 41.015625 30.171875 \nL 41.015625 54.6875 \nL 50 54.6875 \nL 50 0 \nz\n\" id=\"DejaVuSans-1095\"/>\n      <path d=\"M 56.203125 29.59375 \nL 56.203125 25.203125 \nL 14.890625 25.203125 \nQ 15.484375 15.921875 20.484375 11.0625 \nQ 25.484375 6.203125 34.421875 6.203125 \nQ 39.59375 6.203125 44.453125 7.46875 \nQ 49.3125 8.734375 54.109375 11.28125 \nL 54.109375 2.78125 \nQ 49.265625 0.734375 44.1875 -0.34375 \nQ 39.109375 -1.421875 33.890625 -1.421875 \nQ 20.796875 -1.421875 13.15625 6.1875 \nQ 5.515625 13.8125 5.515625 26.8125 \nQ 5.515625 40.234375 12.765625 48.109375 \nQ 20.015625 56 32.328125 56 \nQ 43.359375 56 49.78125 48.890625 \nQ 56.203125 41.796875 56.203125 29.59375 \nz\nM 47.21875 32.234375 \nQ 47.125 39.59375 43.09375 43.984375 \nQ 39.0625 48.390625 32.421875 48.390625 \nQ 24.90625 48.390625 20.390625 44.140625 \nQ 15.875 39.890625 15.1875 32.171875 \nz\n\" id=\"DejaVuSans-1077\"/>\n      <path d=\"M 2.9375 54.6875 \nL 55.328125 54.6875 \nL 55.328125 47.515625 \nL 33.546875 47.515625 \nL 33.546875 0 \nL 24.703125 0 \nL 24.703125 47.515625 \nL 2.9375 47.515625 \nz\n\" id=\"DejaVuSans-1090\"/>\n      <path d=\"M 18.0625 25.203125 \nL 18.0625 7.171875 \nL 30.859375 7.171875 \nQ 37.015625 7.171875 40.234375 9.484375 \nQ 43.453125 11.8125 43.453125 16.21875 \nQ 43.453125 20.609375 40.234375 22.90625 \nQ 37.015625 25.203125 30.859375 25.203125 \nz\nM 18.0625 47.515625 \nL 18.0625 32.375 \nL 29.890625 32.375 \nQ 34.96875 32.375 38.1875 34.390625 \nQ 41.40625 36.421875 41.40625 40.046875 \nQ 41.40625 43.65625 38.1875 45.578125 \nQ 34.96875 47.515625 29.890625 47.515625 \nz\nM 9.078125 54.6875 \nL 30.46875 54.6875 \nQ 40.09375 54.6875 45.265625 51.171875 \nQ 50.4375 47.65625 50.4375 41.15625 \nQ 50.4375 36.140625 47.796875 33.171875 \nQ 45.171875 30.21875 39.984375 29.5 \nQ 46.1875 28.328125 49.609375 24.609375 \nQ 53.03125 20.90625 53.03125 15.328125 \nQ 53.03125 8.015625 47.390625 4 \nQ 41.75 0 31.296875 0 \nL 9.078125 0 \nz\n\" id=\"DejaVuSans-1074\"/>\n      <path id=\"DejaVuSans-32\"/>\n      <path d=\"M 56.296875 54.6875 \nL 56.296875 0 \nL 47.265625 0 \nL 47.265625 47.515625 \nL 18.109375 47.515625 \nL 18.109375 0 \nL 9.078125 0 \nL 9.078125 54.6875 \nz\n\" id=\"DejaVuSans-1087\"/>\n      <path d=\"M 18.109375 8.203125 \nL 18.109375 -20.796875 \nL 9.078125 -20.796875 \nL 9.078125 54.6875 \nL 18.109375 54.6875 \nL 18.109375 46.390625 \nQ 20.953125 51.265625 25.265625 53.625 \nQ 29.59375 56 35.59375 56 \nQ 45.5625 56 51.78125 48.09375 \nQ 58.015625 40.1875 58.015625 27.296875 \nQ 58.015625 14.40625 51.78125 6.484375 \nQ 45.5625 -1.421875 35.59375 -1.421875 \nQ 29.59375 -1.421875 25.265625 0.953125 \nQ 20.953125 3.328125 18.109375 8.203125 \nz\nM 48.6875 27.296875 \nQ 48.6875 37.203125 44.609375 42.84375 \nQ 40.53125 48.484375 33.40625 48.484375 \nQ 26.265625 48.484375 22.1875 42.84375 \nQ 18.109375 37.203125 18.109375 27.296875 \nQ 18.109375 17.390625 22.1875 11.75 \nQ 26.265625 6.109375 33.40625 6.109375 \nQ 40.53125 6.109375 44.609375 11.75 \nQ 48.6875 17.390625 48.6875 27.296875 \nz\n\" id=\"DejaVuSans-1088\"/>\n      <path d=\"M 21.625 7.171875 \nL 47.703125 7.171875 \nL 47.703125 47.515625 \nL 28.8125 47.515625 \nL 28.8125 40.671875 \nQ 28.8125 20.5625 23.046875 9.8125 \nz\nM 8.59375 7.171875 \nQ 13.03125 9.125 14.984375 13.28125 \nQ 19.78125 23.578125 19.78125 44.34375 \nL 19.78125 54.6875 \nL 56.734375 54.6875 \nL 56.734375 7.171875 \nL 63.921875 7.171875 \nL 63.921875 -13.8125 \nL 56.734375 -13.8125 \nL 56.734375 0 \nL 12.40625 0 \nL 12.40625 -13.8125 \nL 5.21875 -13.8125 \nL 5.21875 7.171875 \nz\n\" id=\"DejaVuSans-1076\"/>\n      <path d=\"M 55.90625 54.6875 \nL 55.90625 0 \nL 46.96875 0 \nL 46.96875 43.890625 \nL 20.609375 0 \nL 9.078125 0 \nL 9.078125 54.6875 \nL 18.015625 54.6875 \nL 18.015625 10.890625 \nL 44.34375 54.6875 \nz\nM 17.21875 75.515625 \nL 22.984375 75.515625 \nQ 23.515625 71.859375 25.875 70.015625 \nQ 28.25 68.1875 32.5 68.1875 \nQ 36.703125 68.1875 39.046875 70 \nQ 41.390625 71.8125 42.015625 75.515625 \nL 47.78125 75.515625 \nQ 47.296875 68.53125 43.4375 65.015625 \nQ 39.578125 61.5 32.5 61.5 \nQ 25.421875 61.5 21.5625 65.015625 \nQ 17.703125 68.53125 17.21875 75.515625 \nz\n\" id=\"DejaVuSans-1081\"/>\n     </defs>\n     <g transform=\"translate(17.077969 214.397031)rotate(-90)scale(0.13 -0.13)\">\n      <use xlink:href=\"#DejaVuSans-1050\"/>\n      <use x=\"70.996094\" xlink:href=\"#DejaVuSans-1086\"/>\n      <use x=\"132.177734\" xlink:href=\"#DejaVuSans-1083\"/>\n      <use x=\"196.09375\" xlink:href=\"#DejaVuSans-1080\"/>\n      <use x=\"261.083984\" xlink:href=\"#DejaVuSans-1095\"/>\n      <use x=\"320.166016\" xlink:href=\"#DejaVuSans-1077\"/>\n      <use x=\"381.689453\" xlink:href=\"#DejaVuSans-1089\"/>\n      <use x=\"436.669922\" xlink:href=\"#DejaVuSans-1090\"/>\n      <use x=\"494.921875\" xlink:href=\"#DejaVuSans-1074\"/>\n      <use x=\"553.857422\" xlink:href=\"#DejaVuSans-1086\"/>\n      <use x=\"615.039062\" xlink:href=\"#DejaVuSans-32\"/>\n      <use x=\"646.826172\" xlink:href=\"#DejaVuSans-1087\"/>\n      <use x=\"712.207031\" xlink:href=\"#DejaVuSans-1088\"/>\n      <use x=\"775.683594\" xlink:href=\"#DejaVuSans-1077\"/>\n      <use x=\"837.207031\" xlink:href=\"#DejaVuSans-1076\"/>\n      <use x=\"906.347656\" xlink:href=\"#DejaVuSans-1089\"/>\n      <use x=\"961.328125\" xlink:href=\"#DejaVuSans-1090\"/>\n      <use x=\"1019.580078\" xlink:href=\"#DejaVuSans-1072\"/>\n      <use x=\"1080.859375\" xlink:href=\"#DejaVuSans-1074\"/>\n      <use x=\"1139.794922\" xlink:href=\"#DejaVuSans-1080\"/>\n      <use x=\"1204.785156\" xlink:href=\"#DejaVuSans-1090\"/>\n      <use x=\"1263.037109\" xlink:href=\"#DejaVuSans-1077\"/>\n      <use x=\"1324.560547\" xlink:href=\"#DejaVuSans-1083\"/>\n      <use x=\"1388.476562\" xlink:href=\"#DejaVuSans-1077\"/>\n      <use x=\"1450\" xlink:href=\"#DejaVuSans-1081\"/>\n     </g>\n    </g>\n   </g>\n   <g id=\"patch_7\">\n    <path d=\"M 56.231563 224.64 \nL 56.231563 7.2 \n\" style=\"fill:none;stroke:#000000;stroke-linecap:square;stroke-linejoin:miter;stroke-width:0.8;\"/>\n   </g>\n   <g id=\"patch_8\">\n    <path d=\"M 391.031563 224.64 \nL 391.031563 7.2 \n\" style=\"fill:none;stroke:#000000;stroke-linecap:square;stroke-linejoin:miter;stroke-width:0.8;\"/>\n   </g>\n   <g id=\"patch_9\">\n    <path d=\"M 56.231563 224.64 \nL 391.031563 224.64 \n\" style=\"fill:none;stroke:#000000;stroke-linecap:square;stroke-linejoin:miter;stroke-width:0.8;\"/>\n   </g>\n   <g id=\"patch_10\">\n    <path d=\"M 56.231563 7.2 \nL 391.031563 7.2 \n\" style=\"fill:none;stroke:#000000;stroke-linecap:square;stroke-linejoin:miter;stroke-width:0.8;\"/>\n   </g>\n   <g id=\"legend_1\">\n    <g id=\"patch_11\">\n     <path d=\"M 328.044062 44.55625 \nL 384.031563 44.55625 \nQ 386.031563 44.55625 386.031563 42.55625 \nL 386.031563 14.2 \nQ 386.031563 12.2 384.031563 12.2 \nL 328.044062 12.2 \nQ 326.044062 12.2 326.044062 14.2 \nL 326.044062 42.55625 \nQ 326.044062 44.55625 328.044062 44.55625 \nz\n\" style=\"fill:#ffffff;opacity:0.8;stroke:#cccccc;stroke-linejoin:miter;\"/>\n    </g>\n    <g id=\"patch_12\">\n     <path d=\"M 330.044062 23.798437 \nL 350.044062 23.798437 \nL 350.044062 16.798437 \nL 330.044062 16.798437 \nz\n\" style=\"fill:#ff0000;\"/>\n    </g>\n    <g id=\"text_11\">\n     <!-- Train -->\n     <defs>\n      <path d=\"M -0.296875 72.90625 \nL 61.375 72.90625 \nL 61.375 64.59375 \nL 35.5 64.59375 \nL 35.5 0 \nL 25.59375 0 \nL 25.59375 64.59375 \nL -0.296875 64.59375 \nz\n\" id=\"DejaVuSans-84\"/>\n      <path d=\"M 41.109375 46.296875 \nQ 39.59375 47.171875 37.8125 47.578125 \nQ 36.03125 48 33.890625 48 \nQ 26.265625 48 22.1875 43.046875 \nQ 18.109375 38.09375 18.109375 28.8125 \nL 18.109375 0 \nL 9.078125 0 \nL 9.078125 54.6875 \nL 18.109375 54.6875 \nL 18.109375 46.1875 \nQ 20.953125 51.171875 25.484375 53.578125 \nQ 30.03125 56 36.53125 56 \nQ 37.453125 56 38.578125 55.875 \nQ 39.703125 55.765625 41.0625 55.515625 \nz\n\" id=\"DejaVuSans-114\"/>\n      <path d=\"M 34.28125 27.484375 \nQ 23.390625 27.484375 19.1875 25 \nQ 14.984375 22.515625 14.984375 16.5 \nQ 14.984375 11.71875 18.140625 8.90625 \nQ 21.296875 6.109375 26.703125 6.109375 \nQ 34.1875 6.109375 38.703125 11.40625 \nQ 43.21875 16.703125 43.21875 25.484375 \nL 43.21875 27.484375 \nz\nM 52.203125 31.203125 \nL 52.203125 0 \nL 43.21875 0 \nL 43.21875 8.296875 \nQ 40.140625 3.328125 35.546875 0.953125 \nQ 30.953125 -1.421875 24.3125 -1.421875 \nQ 15.921875 -1.421875 10.953125 3.296875 \nQ 6 8.015625 6 15.921875 \nQ 6 25.140625 12.171875 29.828125 \nQ 18.359375 34.515625 30.609375 34.515625 \nL 43.21875 34.515625 \nL 43.21875 35.40625 \nQ 43.21875 41.609375 39.140625 45 \nQ 35.0625 48.390625 27.6875 48.390625 \nQ 23 48.390625 18.546875 47.265625 \nQ 14.109375 46.140625 10.015625 43.890625 \nL 10.015625 52.203125 \nQ 14.9375 54.109375 19.578125 55.046875 \nQ 24.21875 56 28.609375 56 \nQ 40.484375 56 46.34375 49.84375 \nQ 52.203125 43.703125 52.203125 31.203125 \nz\n\" id=\"DejaVuSans-97\"/>\n      <path d=\"M 9.421875 54.6875 \nL 18.40625 54.6875 \nL 18.40625 0 \nL 9.421875 0 \nz\nM 9.421875 75.984375 \nL 18.40625 75.984375 \nL 18.40625 64.59375 \nL 9.421875 64.59375 \nz\n\" id=\"DejaVuSans-105\"/>\n      <path d=\"M 54.890625 33.015625 \nL 54.890625 0 \nL 45.90625 0 \nL 45.90625 32.71875 \nQ 45.90625 40.484375 42.875 44.328125 \nQ 39.84375 48.1875 33.796875 48.1875 \nQ 26.515625 48.1875 22.3125 43.546875 \nQ 18.109375 38.921875 18.109375 30.90625 \nL 18.109375 0 \nL 9.078125 0 \nL 9.078125 54.6875 \nL 18.109375 54.6875 \nL 18.109375 46.1875 \nQ 21.34375 51.125 25.703125 53.5625 \nQ 30.078125 56 35.796875 56 \nQ 45.21875 56 50.046875 50.171875 \nQ 54.890625 44.34375 54.890625 33.015625 \nz\n\" id=\"DejaVuSans-110\"/>\n     </defs>\n     <g transform=\"translate(358.044062 23.798437)scale(0.1 -0.1)\">\n      <use xlink:href=\"#DejaVuSans-84\"/>\n      <use x=\"46.333984\" xlink:href=\"#DejaVuSans-114\"/>\n      <use x=\"87.447266\" xlink:href=\"#DejaVuSans-97\"/>\n      <use x=\"148.726562\" xlink:href=\"#DejaVuSans-105\"/>\n      <use x=\"176.509766\" xlink:href=\"#DejaVuSans-110\"/>\n     </g>\n    </g>\n    <g id=\"patch_13\">\n     <path d=\"M 330.044062 38.476562 \nL 350.044062 38.476562 \nL 350.044062 31.476562 \nL 330.044062 31.476562 \nz\n\" style=\"fill:#0000ff;\"/>\n    </g>\n    <g id=\"text_12\">\n     <!-- test -->\n     <defs>\n      <path d=\"M 18.3125 70.21875 \nL 18.3125 54.6875 \nL 36.8125 54.6875 \nL 36.8125 47.703125 \nL 18.3125 47.703125 \nL 18.3125 18.015625 \nQ 18.3125 11.328125 20.140625 9.421875 \nQ 21.96875 7.515625 27.59375 7.515625 \nL 36.8125 7.515625 \nL 36.8125 0 \nL 27.59375 0 \nQ 17.1875 0 13.234375 3.875 \nQ 9.28125 7.765625 9.28125 18.015625 \nL 9.28125 47.703125 \nL 2.6875 47.703125 \nL 2.6875 54.6875 \nL 9.28125 54.6875 \nL 9.28125 70.21875 \nz\n\" id=\"DejaVuSans-116\"/>\n      <path d=\"M 56.203125 29.59375 \nL 56.203125 25.203125 \nL 14.890625 25.203125 \nQ 15.484375 15.921875 20.484375 11.0625 \nQ 25.484375 6.203125 34.421875 6.203125 \nQ 39.59375 6.203125 44.453125 7.46875 \nQ 49.3125 8.734375 54.109375 11.28125 \nL 54.109375 2.78125 \nQ 49.265625 0.734375 44.1875 -0.34375 \nQ 39.109375 -1.421875 33.890625 -1.421875 \nQ 20.796875 -1.421875 13.15625 6.1875 \nQ 5.515625 13.8125 5.515625 26.8125 \nQ 5.515625 40.234375 12.765625 48.109375 \nQ 20.015625 56 32.328125 56 \nQ 43.359375 56 49.78125 48.890625 \nQ 56.203125 41.796875 56.203125 29.59375 \nz\nM 47.21875 32.234375 \nQ 47.125 39.59375 43.09375 43.984375 \nQ 39.0625 48.390625 32.421875 48.390625 \nQ 24.90625 48.390625 20.390625 44.140625 \nQ 15.875 39.890625 15.1875 32.171875 \nz\n\" id=\"DejaVuSans-101\"/>\n      <path d=\"M 44.28125 53.078125 \nL 44.28125 44.578125 \nQ 40.484375 46.53125 36.375 47.5 \nQ 32.28125 48.484375 27.875 48.484375 \nQ 21.1875 48.484375 17.84375 46.4375 \nQ 14.5 44.390625 14.5 40.28125 \nQ 14.5 37.15625 16.890625 35.375 \nQ 19.28125 33.59375 26.515625 31.984375 \nL 29.59375 31.296875 \nQ 39.15625 29.25 43.1875 25.515625 \nQ 47.21875 21.78125 47.21875 15.09375 \nQ 47.21875 7.46875 41.1875 3.015625 \nQ 35.15625 -1.421875 24.609375 -1.421875 \nQ 20.21875 -1.421875 15.453125 -0.5625 \nQ 10.6875 0.296875 5.421875 2 \nL 5.421875 11.28125 \nQ 10.40625 8.6875 15.234375 7.390625 \nQ 20.0625 6.109375 24.8125 6.109375 \nQ 31.15625 6.109375 34.5625 8.28125 \nQ 37.984375 10.453125 37.984375 14.40625 \nQ 37.984375 18.0625 35.515625 20.015625 \nQ 33.0625 21.96875 24.703125 23.78125 \nL 21.578125 24.515625 \nQ 13.234375 26.265625 9.515625 29.90625 \nQ 5.8125 33.546875 5.8125 39.890625 \nQ 5.8125 47.609375 11.28125 51.796875 \nQ 16.75 56 26.8125 56 \nQ 31.78125 56 36.171875 55.265625 \nQ 40.578125 54.546875 44.28125 53.078125 \nz\n\" id=\"DejaVuSans-115\"/>\n     </defs>\n     <g transform=\"translate(358.044062 38.476562)scale(0.1 -0.1)\">\n      <use xlink:href=\"#DejaVuSans-116\"/>\n      <use x=\"39.208984\" xlink:href=\"#DejaVuSans-101\"/>\n      <use x=\"100.732422\" xlink:href=\"#DejaVuSans-115\"/>\n      <use x=\"152.832031\" xlink:href=\"#DejaVuSans-116\"/>\n     </g>\n    </g>\n   </g>\n  </g>\n </g>\n <defs>\n  <clipPath id=\"pc013890f1a\">\n   <rect height=\"217.44\" width=\"334.8\" x=\"56.231563\" y=\"7.2\"/>\n  </clipPath>\n </defs>\n</svg>\n",
            "application/pdf": "[encoded data removed]"
          },
          "metadata": {
            "needs_background": "light"
          }
        }
      ]
    },
    {
      "cell_type": "markdown",
      "source": [
        "Как видно, классы очень сбалансированы - представителей примерно поровну. Показатели качества, которые будем рассматривать - Accuracy и ROC-AUC."
      ],
      "metadata": {
        "id": "kLwewQ4Ma5KO"
      }
    },
    {
      "cell_type": "markdown",
      "source": [
        "##Эксперименты"
      ],
      "metadata": {
        "id": "KlLYdsWPxYr1"
      }
    },
    {
      "cell_type": "markdown",
      "source": [
        "Для начала выберем оптимальную архитектуру - рассмотрим векторные представления, которые получаются усреднением выходов последнего слоя и логистическую регрессию. Обучим лог. регрессию, измерим качество на тестовой выборке."
      ],
      "metadata": {
        "id": "Wp8L1HyOXqxY"
      }
    },
    {
      "cell_type": "markdown",
      "source": [
        "###Трансформеры"
      ],
      "metadata": {
        "id": "OaWu5y0EVlg4"
      }
    },
    {
      "cell_type": "markdown",
      "source": [
        "Список рассматриваемых трансформеров: \\\n",
        "\n",
        "\n",
        "*   BERT (base-версия) \\\n",
        "*   RoBERTa (base-версия) \\\n",
        "*   AlBERT (base-v2) \\"
      ],
      "metadata": {
        "id": "aU4Azx0VVqqg"
      }
    },
    {
      "cell_type": "code",
      "source": [
        "bert_model = BertModel.from_pretrained(\"bert-base-uncased\")\n",
        "bert_tokenizer = BertTokenizer.from_pretrained('bert-base-uncased', do_lower_case=True)\n",
        "output.clear()"
      ],
      "metadata": {
        "id": "yjPMEcAXFMh7"
      },
      "execution_count": null,
      "outputs": []
    },
    {
      "cell_type": "code",
      "source": [
        "roberta_tokenizer = RobertaTokenizer.from_pretrained(\"roberta-base\")\n",
        "roberta_model = RobertaModel.from_pretrained(\"roberta-base\")\n",
        "output.clear()"
      ],
      "metadata": {
        "id": "NwohpcUcmaA1"
      },
      "execution_count": 17,
      "outputs": []
    },
    {
      "cell_type": "code",
      "source": [
        "albert_tokenizer = AlbertTokenizer.from_pretrained('albert-base-v2', do_lower_case=True)\n",
        "albert_model = AlbertModel.from_pretrained('albert-base-v2')\n",
        "output.clear()"
      ],
      "metadata": {
        "id": "zmRSwQSsniGh"
      },
      "execution_count": null,
      "outputs": []
    },
    {
      "cell_type": "code",
      "source": [
        "train_bert = get_embedds_last_mean(bert_tokenizer, bert_model, train_texts, device)"
      ],
      "metadata": {
        "colab": {
          "base_uri": "https://localhost:8080/",
          "referenced_widgets": [
            "d40c32ad66cd4ea6a03bad8cc915e3c9",
            "4d4c019934d1447c826f899ac08060cd",
            "d88b573881f34b31ac98a03900a544a8",
            "b3dde196c877415e981197819aed1254",
            "41a63afe34034da188b7feb58f1e8318",
            "d57e38d567f348ec8d317e2568a6c400",
            "05bb6adb2c9345a989345b807896a1fe",
            "5fd54d49c7804b548a990d24e65c6b8b",
            "b4145254ff714371bb99e7464d8c49f9",
            "d29efb5567904fcbbd9056c32b2cd17e",
            "7efadb7573bd4f449731d52317a9a73b"
          ]
        },
        "id": "kX9WxRNbRc5X",
        "outputId": "56e8bc8a-5660-46bb-eba0-82e4ad5aaa11"
      },
      "execution_count": null,
      "outputs": [
        {
          "output_type": "display_data",
          "data": {
            "text/plain": [
              "  0%|          | 0/10000 [00:00<?, ?it/s]"
            ],
            "application/vnd.jupyter.widget-view+json": {
              "version_major": 2,
              "version_minor": 0,
              "model_id": "d40c32ad66cd4ea6a03bad8cc915e3c9"
            }
          },
          "metadata": {}
        }
      ]
    },
    {
      "cell_type": "code",
      "source": [
        "test_bert = get_embedds_last_mean(bert_tokenizer, bert_model, test_texts, device)"
      ],
      "metadata": {
        "colab": {
          "base_uri": "https://localhost:8080/",
          "referenced_widgets": [
            "3c4f81a9c3da4284990c3b54d2855003",
            "25474ebea9ff4700b7a4c444956c26b7",
            "ea6f6a7ac5474b678b5dd1786ca57983",
            "68028cf804ad41549049875ac21c5cc2",
            "d6e2b5edf4d945708903c63f64a3a86a",
            "5d23a183f2ed4b4eb7c150157adda9c7",
            "92ef8d5106df47df8176b86c63be89c2",
            "0ed8322fcb2e4187ae02b0e548e17722",
            "0ee2f9807b4347cea7722f27eae4da09",
            "5576cac587584d6ab0fad5abe7fea1d1",
            "5727125b886e4c41b5d49635c75efa8f"
          ]
        },
        "id": "pmV0fXs-UUvM",
        "outputId": "ce672971-5a48-412d-8ac8-1a79b8373ef2"
      },
      "execution_count": null,
      "outputs": [
        {
          "output_type": "display_data",
          "data": {
            "text/plain": [
              "  0%|          | 0/2000 [00:00<?, ?it/s]"
            ],
            "application/vnd.jupyter.widget-view+json": {
              "version_major": 2,
              "version_minor": 0,
              "model_id": "3c4f81a9c3da4284990c3b54d2855003"
            }
          },
          "metadata": {}
        }
      ]
    },
    {
      "cell_type": "code",
      "source": [
        "train_roberta = get_embedds_last_mean(roberta_tokenizer, roberta_model, train_texts, device)"
      ],
      "metadata": {
        "colab": {
          "base_uri": "https://localhost:8080/",
          "referenced_widgets": [
            "42071eea17e34f7eac6d2243911a1d52",
            "936723e11e02470d8e9556c6a3c5beb3",
            "2c715811d9784754b01d87719ca10f1d",
            "2a2d3b5d5095414198b19fc1bf320cac",
            "4c08ab5f0f24422485031f456a92b8a0",
            "78068b11df2a44cca629acdf87077b44",
            "0ef721269db749a1855bb6ae3177dee8",
            "e6bf5ff0ab464d9badcfa53627e150cd",
            "06201b46902a4e45b537a32ac41b8d73",
            "5b854533b2634cf5a6e95b6dc6e043a8",
            "9faa6e5d9f024731b53f66b0625a6ed2"
          ]
        },
        "id": "Vt4CgLibmaHj",
        "outputId": "f5cd0cc9-cb3d-4119-8719-5dbda25ad2cd"
      },
      "execution_count": null,
      "outputs": [
        {
          "output_type": "display_data",
          "data": {
            "text/plain": [
              "  0%|          | 0/10000 [00:00<?, ?it/s]"
            ],
            "application/vnd.jupyter.widget-view+json": {
              "version_major": 2,
              "version_minor": 0,
              "model_id": "42071eea17e34f7eac6d2243911a1d52"
            }
          },
          "metadata": {}
        }
      ]
    },
    {
      "cell_type": "code",
      "source": [
        "test_roberta = get_embedds_last_mean(roberta_tokenizer, roberta_model, test_texts, device)"
      ],
      "metadata": {
        "colab": {
          "base_uri": "https://localhost:8080/",
          "referenced_widgets": [
            "51a9f39a399649ff9a1bc0ca41d78d1c",
            "3fc3633efff241fe965b080ba17ee70d",
            "ade2c39b43444d50b74a73bd2e682c29",
            "b2d5299453404e5382755fd918f847b3",
            "fa5631b16078481a80e8244a178e869a",
            "2b0a5aa2a0d54b93ad1a4639e54a9490",
            "5cda4d2ccbb64900824ea4e933735961",
            "42d6986167704f38a807fe829d0b8486",
            "2b335823ce6b40b3ad9768a9518f9b4d",
            "edf2c5fdcdba48448112f50b9059049f",
            "d44ff12ebb0842fb9a737fd16530bdd6"
          ]
        },
        "id": "_gJ1cDsbmaKr",
        "outputId": "a5f56a17-89f0-4fff-8b71-f331a165f575"
      },
      "execution_count": null,
      "outputs": [
        {
          "output_type": "display_data",
          "data": {
            "text/plain": [
              "  0%|          | 0/2000 [00:00<?, ?it/s]"
            ],
            "application/vnd.jupyter.widget-view+json": {
              "version_major": 2,
              "version_minor": 0,
              "model_id": "51a9f39a399649ff9a1bc0ca41d78d1c"
            }
          },
          "metadata": {}
        }
      ]
    },
    {
      "cell_type": "code",
      "source": [
        "train_albert = get_embedds_last_mean(albert_tokenizer, albert_model, train_texts, device)"
      ],
      "metadata": {
        "colab": {
          "base_uri": "https://localhost:8080/",
          "referenced_widgets": [
            "f1fc96f55b1d49499817b146e35b557c",
            "2bfd1d77f23843d7bf95d595bc3bbb10",
            "17abed84ced644a6b685fa660b16ea7e",
            "ba4b04c0032546aaa03608e1f315be47",
            "6c39781c1f6548c5a58e0985aeba5765",
            "e14bb7b1421d44f99eb6c09327a237c4",
            "9216ddef1146432b80f14fe2bc82d052",
            "92c6e2422b524983b25ecb8144002810",
            "af3ea8adabba4266a46be106691b200f",
            "205d8d2d131e42669201c0ead7386975",
            "a7ceda225fcf4883b62116a253b5dc42"
          ]
        },
        "id": "wK-8GMQJhqhS",
        "outputId": "f4d2b7db-5bd0-4ad3-f69c-07838ed4c92a"
      },
      "execution_count": null,
      "outputs": [
        {
          "output_type": "display_data",
          "data": {
            "text/plain": [
              "  0%|          | 0/10000 [00:00<?, ?it/s]"
            ],
            "application/vnd.jupyter.widget-view+json": {
              "version_major": 2,
              "version_minor": 0,
              "model_id": "f1fc96f55b1d49499817b146e35b557c"
            }
          },
          "metadata": {}
        }
      ]
    },
    {
      "cell_type": "code",
      "source": [
        "test_albert = get_embedds_last_mean(albert_tokenizer, albert_model, test_texts, device)"
      ],
      "metadata": {
        "colab": {
          "base_uri": "https://localhost:8080/",
          "referenced_widgets": [
            "50b708ecb746423ea2e7354525e45dbd",
            "f58cc05bf9214225ab151361b8e486c9",
            "1208783389bb4db083500379f9f04ec1",
            "64116d61ebbb49afb4c755da865fc595",
            "7bc529f4e4f845e0968074e18ef1e880",
            "7a2daabf3b504bf49d246f04db9bff5f",
            "87cca288286b45d89698a2ca2206cb67",
            "2980dc6eebf145b1978c17554bba0b45",
            "b4c7bdaa4ad6452a93742741905d7a10",
            "b37efc9b93934ad396343a2d91823faf",
            "7e294a59d240405db664c0eca0c29c4b"
          ]
        },
        "id": "OD2BCYd_ikcM",
        "outputId": "e4eda134-7b1a-4541-f692-9f93b37c72f1"
      },
      "execution_count": null,
      "outputs": [
        {
          "output_type": "display_data",
          "data": {
            "text/plain": [
              "  0%|          | 0/2000 [00:00<?, ?it/s]"
            ],
            "application/vnd.jupyter.widget-view+json": {
              "version_major": 2,
              "version_minor": 0,
              "model_id": "50b708ecb746423ea2e7354525e45dbd"
            }
          },
          "metadata": {}
        }
      ]
    },
    {
      "cell_type": "markdown",
      "source": [
        "###Выбираем наиболее удачные архитектуры на основе логистической регрессии"
      ],
      "metadata": {
        "id": "eR3uJW7OdQDQ"
      }
    },
    {
      "cell_type": "code",
      "source": [
        "logreg_bert = LogisticRegression(max_iter=10000)\n",
        "logreg_bert.fit(train_bert, y_train)\n",
        "pred_bert = logreg_bert.predict(test_bert)\n",
        "accuracy_bert = accuracy_score(y_test, pred_bert)\n",
        "roc_auc_bert = roc_auc_score(y_test, logreg_bert.predict_proba(test_bert)[:, 1])\n",
        "print(accuracy_bert, roc_auc_bert)"
      ],
      "metadata": {
        "colab": {
          "base_uri": "https://localhost:8080/"
        },
        "id": "ITNTlHKiRMdC",
        "outputId": "220fe15f-012f-4161-ff30-0636ca697c64"
      },
      "execution_count": null,
      "outputs": [
        {
          "output_type": "stream",
          "name": "stdout",
          "text": [
            "0.879 0.9528919528919529\n"
          ]
        }
      ]
    },
    {
      "cell_type": "code",
      "source": [
        "logreg_roberta = LogisticRegression(max_iter=10000)\n",
        "logreg_roberta.fit(train_roberta, y_train)\n",
        "pred_roberta = logreg_roberta.predict(test_roberta)\n",
        "accuracy_roberta = accuracy_score(y_test, pred_roberta)\n",
        "roc_auc_roberta = roc_auc_score(y_test, logreg_roberta.predict_proba(test_roberta)[:, 1])\n",
        "print(accuracy_roberta, roc_auc_roberta)"
      ],
      "metadata": {
        "colab": {
          "base_uri": "https://localhost:8080/"
        },
        "id": "d7r4Rvy0uskR",
        "outputId": "ee83caa6-b7be-4fad-eef3-8288f012c637"
      },
      "execution_count": null,
      "outputs": [
        {
          "output_type": "stream",
          "name": "stdout",
          "text": [
            "0.9165 0.9682039682039683\n"
          ]
        }
      ]
    },
    {
      "cell_type": "code",
      "source": [
        "logreg_albert = LogisticRegression(max_iter=10000)\n",
        "logreg_albert.fit(train_albert, y_train)\n",
        "pred_albert = logreg_albert.predict(test_albert)\n",
        "accuracy_albert = accuracy_score(y_test, pred_albert)\n",
        "roc_auc_albert = roc_auc_score(y_test, logreg_albert.predict_proba(test_albert)[:, 1])\n",
        "print(accuracy_albert, roc_auc_albert)"
      ],
      "metadata": {
        "colab": {
          "base_uri": "https://localhost:8080/"
        },
        "id": "67C35eDHutEH",
        "outputId": "08c7403f-9cc6-48e4-8d3f-a023fef7bc9b"
      },
      "execution_count": null,
      "outputs": [
        {
          "output_type": "stream",
          "name": "stdout",
          "text": [
            "0.892 0.9595919595919596\n"
          ]
        }
      ]
    },
    {
      "cell_type": "markdown",
      "source": [
        "В таблице представлены результаты. Как видно, наиболее удачной является архитектура RoBERTA. Далее будем рассматривать ее.\n",
        "\n",
        "|Архитектура|Accuracy|ROC-AUC|\n",
        "|-----------|--------|-------|\n",
        "|BERT       |0.889   |0.95   |\n",
        "|RoBERTa    |0.917   |0.97   |\n",
        "|AlBERT     |0.892   |0.96   |"
      ],
      "metadata": {
        "id": "negS_1wFxoB7"
      }
    },
    {
      "cell_type": "markdown",
      "source": [
        "###Выбираем наиболее удачное векторное представление: \n",
        "Out-mean \\\n",
        "4hidden-pooling \\\n",
        "4hidden-sum"
      ],
      "metadata": {
        "id": "fy1pdmQGxppk"
      }
    },
    {
      "cell_type": "code",
      "source": [
        "train_last_mean = get_embedds_last_mean(roberta_tokenizer, roberta_model, train_texts, device)\n",
        "test_last_mean = get_embedds_last_mean(roberta_tokenizer, roberta_model, test_texts, device)\n",
        "output.clear()"
      ],
      "metadata": {
        "id": "lBDuSWEfdiO8"
      },
      "execution_count": null,
      "outputs": []
    },
    {
      "cell_type": "code",
      "source": [
        "train_4last_sum = get_embedds_4last_sum_mean(roberta_tokenizer, roberta_model, train_texts, device)\n",
        "test_4last_sum = get_embedds_4last_sum_mean(roberta_tokenizer, roberta_model, test_texts, device)\n",
        "output.clear()"
      ],
      "metadata": {
        "id": "Go-DS55idJB7"
      },
      "execution_count": 18,
      "outputs": []
    },
    {
      "cell_type": "code",
      "source": [
        "train_4last_cat = get_embedds_4last_concat_mean(roberta_tokenizer, roberta_model, train_texts, device)\n",
        "test_4last_cat = get_embedds_4last_concat_mean(roberta_tokenizer, roberta_model, test_texts, device)\n",
        "output.clear()"
      ],
      "metadata": {
        "id": "UUmYcCfCxu4O"
      },
      "execution_count": null,
      "outputs": []
    },
    {
      "cell_type": "code",
      "source": [
        "logreg_outmean = LogisticRegression(max_iter=10000)\n",
        "logreg_outmean.fit(train_last_mean, y_train)\n",
        "accuracy_outmean = accuracy_score(y_test, logreg_outmean.predict(test_last_mean))\n",
        "roc_auc_outmean = roc_auc_score(y_test, logreg_outmean.predict_proba(test_last_mean)[:, 1])\n",
        "print(f'Out-mean\\n accuracy:{accuracy_outmean}, roc-auc: {roc_auc_outmean}')\n",
        "\n",
        "logreg_4last_sum = LogisticRegression(max_iter=10000)\n",
        "logreg_4last_sum.fit(train_4last_sum, y_train)\n",
        "accuracy_4last_sum = accuracy_score(y_test, logreg_4last_sum.predict(test_4last_sum))\n",
        "roc_auc_4last_sum = roc_auc_score(y_test, logreg_4last_sum.predict_proba(test_4last_sum)[:, 1])\n",
        "print(f'4hidden-sum\\n accuracy:{accuracy_4last_sum}, roc-auc: {roc_auc_4last_sum}')\n",
        "\n",
        "logreg_4last_cat = LogisticRegression(max_iter=10000)\n",
        "logreg_4last_cat.fit(train_4last_cat, y_train)\n",
        "accuracy_4last_cat = accuracy_score(y_test, logreg_4last_cat.predict(test_4last_cat))\n",
        "roc_auc_4last_cat = roc_auc_score(y_test, logreg_4last_cat.predict_proba(test_4last_cat)[:, 1])\n",
        "print(f'4hidden-pooling\\n accuracy:{accuracy_4last_cat}, roc-auc: {roc_auc_outmean}')"
      ],
      "metadata": {
        "colab": {
          "base_uri": "https://localhost:8080/"
        },
        "id": "buInFX3Xb-Eb",
        "outputId": "7d00bcde-7634-44e5-8585-1be93ea7d848"
      },
      "execution_count": null,
      "outputs": [
        {
          "output_type": "stream",
          "name": "stdout",
          "text": [
            "Out-mean\n",
            " accuracy:0.9165, roc-auc: 0.9682039682039683\n",
            "4hidden-sum\n",
            " accuracy:0.9155, roc-auc: 0.972023972023972\n",
            "4hidden-pooling\n",
            " accuracy:0.9225, roc-auc: 0.9682039682039683\n"
          ]
        }
      ]
    },
    {
      "cell_type": "markdown",
      "source": [
        "|Способ представления|Accuracy|ROC-AUC|\n",
        "|--------------------|--------|--------|\n",
        "|Out-mean            |0.917   |0.968   |\n",
        "|4hidden-sum         |0.916   |0.972   |\n",
        "|4hidden-pooling     |0.923   |0.968   |\n",
        "\n",
        "Видим, что способ с конкатенацией и последующим усреднением последних 4 слоев точность дает лучше, но способ с их суммированием с последующим усреднением лучше упорядочивает объекты, так как ROC-AUC выше. Будем далее рассматрировать этот способ, чтобы выбрать какие ML-классификаторы лучше справляются с задачей"
      ],
      "metadata": {
        "id": "XtuJtEEC8tcs"
      }
    },
    {
      "cell_type": "markdown",
      "source": [
        "###Перебор параметров RandomForest, LightGBM, CatBoost"
      ],
      "metadata": {
        "id": "O296d5Yby-cF"
      }
    },
    {
      "cell_type": "code",
      "source": [
        "logreg_params = {\n",
        "    'C' : [100, 20, 10, 2, 1]\n",
        "}\n",
        "\n",
        "ridge_params = {\n",
        "    'alpha' : [0.01, 0.05, 0.1, 0.5]\n",
        "}\n",
        "\n",
        "lgbm_params = {\n",
        "    'n_estimators' : [200, 300],\n",
        "    'max_depth' : [5, 7, 10]\n",
        "}\n",
        "\n",
        "catbost_params = {\n",
        "    'max_depth' : [5, 7, 10],\n",
        "    'n_estimators' : [200, 300]\n",
        "}\n",
        "\n",
        "rf_params = {\n",
        "    'n_estimators' : [50, 100, 200],\n",
        "    'max_depth' : [15, 20, 30, 50]\n",
        "}\n",
        "\n",
        "svm_params = {\n",
        "    'C' : [100, 20, 10, 2, 1]\n",
        "}"
      ],
      "metadata": {
        "id": "qcbpqAngzFEW"
      },
      "execution_count": 27,
      "outputs": []
    },
    {
      "cell_type": "code",
      "source": [
        "lgbm_grid = GridSearchCV(estimator=LGBMClassifier(learning_rate=0.1), param_grid=lgbm_params, scoring='accuracy', cv=2, verbose=4)\n",
        "lgbm_grid.fit(train_4last_sum, y_train)\n",
        "output.clear()\n",
        "print(lgbm_grid.best_params_)\n",
        "accuracy1 = accuracy_score(y_test, lgbm_grid.best_estimator_.predict(test_4last_sum))\n",
        "roc_auc1 = roc_auc_score(y_test, lgbm_grid.best_estimator_.predict_proba(test_4last_sum)[:, 1])\n",
        "print(f'4hidden-sum\\n accuracy:{accuracy1}, roc-auc: {roc_auc1}')"
      ],
      "metadata": {
        "colab": {
          "base_uri": "https://localhost:8080/"
        },
        "id": "0bnCiERsI3zs",
        "outputId": "67dfdf77-d20a-4cf4-9d8b-355936230fd8"
      },
      "execution_count": 23,
      "outputs": [
        {
          "output_type": "stream",
          "name": "stdout",
          "text": [
            "{'max_depth': 7, 'n_estimators': 300}\n",
            "4hidden-sum\n",
            " accuracy:0.8955, roc-auc: 0.9602079602079603\n"
          ]
        }
      ]
    },
    {
      "cell_type": "code",
      "source": [
        "logreg_grid = GridSearchCV(estimator=LogisticRegression(max_iter=10000), param_grid=logreg_params, scoring='accuracy', cv=2, verbose=4)\n",
        "logreg_grid.fit(train_4last_sum, y_train)\n",
        "output.clear()\n",
        "print(logreg_grid.best_params_)\n",
        "accuracy2 = accuracy_score(y_test, logreg_grid.best_estimator_.predict(test_4last_sum))\n",
        "roc_auc2 = roc_auc_score(y_test, logreg_grid.best_estimator_.predict_proba(test_4last_sum)[:, 1])\n",
        "print(f'4hidden-sum\\n accuracy:{accuracy2}, roc-auc: {roc_auc2}')"
      ],
      "metadata": {
        "id": "ANk5V0FmI-vn",
        "colab": {
          "base_uri": "https://localhost:8080/"
        },
        "outputId": "5a124af2-e67a-4ba5-de42-60afdd02b2ea"
      },
      "execution_count": 28,
      "outputs": [
        {
          "output_type": "stream",
          "name": "stdout",
          "text": [
            "{'C': 1}\n",
            "4hidden-sum\n",
            " accuracy:0.9155, roc-auc: 0.972023972023972\n"
          ]
        }
      ]
    },
    {
      "cell_type": "code",
      "source": [
        "ridge_grid = GridSearchCV(estimator=RidgeClassifier(), param_grid=ridge_params, scoring='accuracy', cv=2, verbose=4)\n",
        "ridge_grid.fit(train_4last_sum, y_train)\n",
        "output.clear()\n",
        "print(ridge_grid.best_params_)\n",
        "accuracy3 = accuracy_score(y_test, ridge_grid.best_estimator_.predict(test_4last_sum))\n",
        "# roc_auc3 = roc_auc_score(y_test, ridge_grid.best_estimator_.predict_proba(test_4last_sum)[:, 1])\n",
        "print(f'4hidden-sum\\n accuracy:{accuracy3}')#', roc-auc: {roc_auc3}')"
      ],
      "metadata": {
        "colab": {
          "base_uri": "https://localhost:8080/"
        },
        "id": "CXv_O7luMBDc",
        "outputId": "77bb2f13-c9d1-4bf1-d2a1-8c9cde87c732"
      },
      "execution_count": 22,
      "outputs": [
        {
          "output_type": "stream",
          "name": "stdout",
          "text": [
            "{'alpha': 0.5}\n",
            "4hidden-sum\n",
            " accuracy:0.914\n"
          ]
        }
      ]
    },
    {
      "cell_type": "code",
      "source": [
        "rf_grid = GridSearchCV(estimator=RandomForestClassifier(), param_grid=rf_params, scoring='accuracy', cv=2, verbose=4)\n",
        "rf_grid.fit(train_4last_sum, y_train)\n",
        "output.clear()\n",
        "print(rf_grid.best_params_)\n",
        "accuracy5 = accuracy_score(y_test, rf_grid.best_estimator_.predict(test_4last_sum))\n",
        "roc_auc5 = roc_auc_score(y_test, rf_grid.best_estimator_.predict_proba(test_4last_sum)[:, 1])\n",
        "print(f'4hidden-sum\\n accuracy:{accuracy5}, roc-auc: {roc_auc5}')"
      ],
      "metadata": {
        "id": "KeakqTHZ9Pbc",
        "colab": {
          "base_uri": "https://localhost:8080/"
        },
        "outputId": "58faaa8c-a1b1-4f5c-fcb4-07b24ad595ca"
      },
      "execution_count": 30,
      "outputs": [
        {
          "output_type": "stream",
          "name": "stdout",
          "text": [
            "{'max_depth': 15, 'n_estimators': 100}\n",
            "4hidden-sum\n",
            " accuracy:0.8425, roc-auc: 0.9288839288839288\n"
          ]
        }
      ]
    },
    {
      "cell_type": "code",
      "source": [
        "svm_grid = GridSearchCV(estimator=SVC(probability=True), param_grid=svm_params, scoring='accuracy', cv=2, verbose=4)\n",
        "svm_grid.fit(train_4last_sum, y_train)\n",
        "output.clear()\n",
        "print(svm_grid.best_params_)\n",
        "accuracy6 = accuracy_score(y_test, svm_grid.best_estimator_.predict(test_4last_sum))\n",
        "roc_auc6 = roc_auc_score(y_test, svm_grid.best_estimator_.predict_proba(test_4last_sum)[:, 1])\n",
        "print(f'4hidden-sum\\n accuracy:{accuracy6}, roc-auc: {roc_auc6}')"
      ],
      "metadata": {
        "id": "WlWlPLKqFI7K",
        "colab": {
          "base_uri": "https://localhost:8080/"
        },
        "outputId": "4523102c-887e-43f5-ec9a-eb495427b6cc"
      },
      "execution_count": 29,
      "outputs": [
        {
          "output_type": "stream",
          "name": "stdout",
          "text": [
            "{'C': 100}\n",
            "4hidden-sum\n",
            " accuracy:0.927, roc-auc: 0.9735624735624736\n"
          ]
        }
      ]
    },
    {
      "cell_type": "markdown",
      "source": [
        "Результаты подбора параметров\n",
        "\n",
        "|Модель            |Accuracy|ROC-AUC |\n",
        "|------------------|--------|--------|\n",
        "|Ridge             |0.914   |-       |\n",
        "|LogisticRegression|0.916   |0.972   |\n",
        "|SVM               |0.927   |0.974   |\n",
        "|LightGBM          |0.896   |0.960   |\n",
        "|RandomForest      |0.843   |0.928   |\n"
      ],
      "metadata": {
        "id": "YrlWrMm2Sws0"
      }
    },
    {
      "cell_type": "markdown",
      "source": [
        "###Выводы\n",
        "\n",
        "Лучшими оказались Логистическая регрессия и SVM. Видно, что трансформеры выдают хорошие векторные представления, которые отлично подходят под линейные модели(немного лукавства, так как в SVM использовалось rbf-ядро). Ансамблевые модели(бустинг и случайный лес) справляются хуже, а также требуют много времени для обучения(конкретно бустинг), так как признаковое пространство довольно большое. Поэтому можно сделать вывод о том, что линейные модели здесь очень хорошо подходят"
      ],
      "metadata": {
        "id": "BCDOz4zmVEjL"
      }
    }
  ]
}